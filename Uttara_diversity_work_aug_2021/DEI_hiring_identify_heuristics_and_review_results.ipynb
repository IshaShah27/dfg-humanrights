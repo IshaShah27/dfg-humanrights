{
  "nbformat": 4,
  "nbformat_minor": 0,
  "metadata": {
    "colab": {
      "name": "DEI_hiring_identify_heuristics_and_review_results.ipynb",
      "provenance": [],
      "collapsed_sections": [
        "9yQP7BEmYJoG"
      ]
    },
    "kernelspec": {
      "display_name": "Python 3",
      "name": "python3"
    },
    "widgets": {
      "application/vnd.jupyter.widget-state+json": {
        "772e099689184cc3a0c3d1c02434f47a": {
          "model_module": "@jupyter-widgets/controls",
          "model_name": "HBoxModel",
          "model_module_version": "1.5.0",
          "state": {
            "_dom_classes": [],
            "_model_module": "@jupyter-widgets/controls",
            "_model_module_version": "1.5.0",
            "_model_name": "HBoxModel",
            "_view_count": null,
            "_view_module": "@jupyter-widgets/controls",
            "_view_module_version": "1.5.0",
            "_view_name": "HBoxView",
            "box_style": "",
            "children": [
              "IPY_MODEL_112ae2670c824143b98f2b67d0418c59",
              "IPY_MODEL_ddeb76d0e68d4c34815adade9cfccd40"
            ],
            "layout": "IPY_MODEL_8c08bd68caa04e459f387d49cf9a3b03"
          }
        },
        "112ae2670c824143b98f2b67d0418c59": {
          "model_module": "@jupyter-widgets/controls",
          "model_name": "FloatProgressModel",
          "model_module_version": "1.5.0",
          "state": {
            "_dom_classes": [],
            "_model_module": "@jupyter-widgets/controls",
            "_model_module_version": "1.5.0",
            "_model_name": "FloatProgressModel",
            "_view_count": null,
            "_view_module": "@jupyter-widgets/controls",
            "_view_module_version": "1.5.0",
            "_view_name": "ProgressView",
            "bar_style": "",
            "description": "progress bar:  38%",
            "description_tooltip": null,
            "layout": "IPY_MODEL_881cc1a506f24aa98bdd1bbb527195cd",
            "max": 20626,
            "min": 0,
            "orientation": "horizontal",
            "style": "IPY_MODEL_8c115baf043b496da5eef6ef2c88fc73",
            "value": 7782
          }
        },
        "ddeb76d0e68d4c34815adade9cfccd40": {
          "model_module": "@jupyter-widgets/controls",
          "model_name": "HTMLModel",
          "model_module_version": "1.5.0",
          "state": {
            "_dom_classes": [],
            "_model_module": "@jupyter-widgets/controls",
            "_model_module_version": "1.5.0",
            "_model_name": "HTMLModel",
            "_view_count": null,
            "_view_module": "@jupyter-widgets/controls",
            "_view_module_version": "1.5.0",
            "_view_name": "HTMLView",
            "description": "",
            "description_tooltip": null,
            "layout": "IPY_MODEL_bcf5acdb92a7480cb19ae9701d4136bd",
            "placeholder": "​",
            "style": "IPY_MODEL_0160d1a0cef445c585d1579c4e664616",
            "value": " 7779/20626 [06:10&lt;09:38, 22.22it/s]"
          }
        },
        "8c08bd68caa04e459f387d49cf9a3b03": {
          "model_module": "@jupyter-widgets/base",
          "model_name": "LayoutModel",
          "model_module_version": "1.2.0",
          "state": {
            "_model_module": "@jupyter-widgets/base",
            "_model_module_version": "1.2.0",
            "_model_name": "LayoutModel",
            "_view_count": null,
            "_view_module": "@jupyter-widgets/base",
            "_view_module_version": "1.2.0",
            "_view_name": "LayoutView",
            "align_content": null,
            "align_items": null,
            "align_self": null,
            "border": null,
            "bottom": null,
            "display": null,
            "flex": null,
            "flex_flow": null,
            "grid_area": null,
            "grid_auto_columns": null,
            "grid_auto_flow": null,
            "grid_auto_rows": null,
            "grid_column": null,
            "grid_gap": null,
            "grid_row": null,
            "grid_template_areas": null,
            "grid_template_columns": null,
            "grid_template_rows": null,
            "height": null,
            "justify_content": null,
            "justify_items": null,
            "left": null,
            "margin": null,
            "max_height": null,
            "max_width": null,
            "min_height": null,
            "min_width": null,
            "object_fit": null,
            "object_position": null,
            "order": null,
            "overflow": null,
            "overflow_x": null,
            "overflow_y": null,
            "padding": null,
            "right": null,
            "top": null,
            "visibility": null,
            "width": null
          }
        },
        "881cc1a506f24aa98bdd1bbb527195cd": {
          "model_module": "@jupyter-widgets/base",
          "model_name": "LayoutModel",
          "model_module_version": "1.2.0",
          "state": {
            "_model_module": "@jupyter-widgets/base",
            "_model_module_version": "1.2.0",
            "_model_name": "LayoutModel",
            "_view_count": null,
            "_view_module": "@jupyter-widgets/base",
            "_view_module_version": "1.2.0",
            "_view_name": "LayoutView",
            "align_content": null,
            "align_items": null,
            "align_self": null,
            "border": null,
            "bottom": null,
            "display": null,
            "flex": null,
            "flex_flow": null,
            "grid_area": null,
            "grid_auto_columns": null,
            "grid_auto_flow": null,
            "grid_auto_rows": null,
            "grid_column": null,
            "grid_gap": null,
            "grid_row": null,
            "grid_template_areas": null,
            "grid_template_columns": null,
            "grid_template_rows": null,
            "height": null,
            "justify_content": null,
            "justify_items": null,
            "left": null,
            "margin": null,
            "max_height": null,
            "max_width": null,
            "min_height": null,
            "min_width": null,
            "object_fit": null,
            "object_position": null,
            "order": null,
            "overflow": null,
            "overflow_x": null,
            "overflow_y": null,
            "padding": null,
            "right": null,
            "top": null,
            "visibility": null,
            "width": null
          }
        },
        "8c115baf043b496da5eef6ef2c88fc73": {
          "model_module": "@jupyter-widgets/controls",
          "model_name": "ProgressStyleModel",
          "model_module_version": "1.5.0",
          "state": {
            "_model_module": "@jupyter-widgets/controls",
            "_model_module_version": "1.5.0",
            "_model_name": "ProgressStyleModel",
            "_view_count": null,
            "_view_module": "@jupyter-widgets/base",
            "_view_module_version": "1.2.0",
            "_view_name": "StyleView",
            "bar_color": null,
            "description_width": "initial"
          }
        },
        "bcf5acdb92a7480cb19ae9701d4136bd": {
          "model_module": "@jupyter-widgets/base",
          "model_name": "LayoutModel",
          "model_module_version": "1.2.0",
          "state": {
            "_model_module": "@jupyter-widgets/base",
            "_model_module_version": "1.2.0",
            "_model_name": "LayoutModel",
            "_view_count": null,
            "_view_module": "@jupyter-widgets/base",
            "_view_module_version": "1.2.0",
            "_view_name": "LayoutView",
            "align_content": null,
            "align_items": null,
            "align_self": null,
            "border": null,
            "bottom": null,
            "display": null,
            "flex": null,
            "flex_flow": null,
            "grid_area": null,
            "grid_auto_columns": null,
            "grid_auto_flow": null,
            "grid_auto_rows": null,
            "grid_column": null,
            "grid_gap": null,
            "grid_row": null,
            "grid_template_areas": null,
            "grid_template_columns": null,
            "grid_template_rows": null,
            "height": null,
            "justify_content": null,
            "justify_items": null,
            "left": null,
            "margin": null,
            "max_height": null,
            "max_width": null,
            "min_height": null,
            "min_width": null,
            "object_fit": null,
            "object_position": null,
            "order": null,
            "overflow": null,
            "overflow_x": null,
            "overflow_y": null,
            "padding": null,
            "right": null,
            "top": null,
            "visibility": null,
            "width": null
          }
        },
        "0160d1a0cef445c585d1579c4e664616": {
          "model_module": "@jupyter-widgets/controls",
          "model_name": "DescriptionStyleModel",
          "model_module_version": "1.5.0",
          "state": {
            "_model_module": "@jupyter-widgets/controls",
            "_model_module_version": "1.5.0",
            "_model_name": "DescriptionStyleModel",
            "_view_count": null,
            "_view_module": "@jupyter-widgets/base",
            "_view_module_version": "1.2.0",
            "_view_name": "StyleView",
            "description_width": ""
          }
        }
      }
    }
  },
  "cells": [
    {
      "cell_type": "markdown",
      "metadata": {
        "id": "uABC-14IuwZ6"
      },
      "source": [
        "**bold text**# Overview: Analysis on labeled dataset provided by SASB\n",
        "\n",
        "Our initial attempts to train different classifiers to predict the relevant GICs on 10-K disclosures did not yield adequate metrics. The highest level of precision/recall we were able to obtain was around 0.82.\n",
        "\n",
        "We reviewed the prediction results and the labeled data in details. We realized that there were inconsistency in the labeled data in that:\n",
        "* Identical 10-K disclosures were labeled with different targets (e.g. not relevant vs. GIC 310)\n",
        "* Certain 10-K disclosures were labeled incorrectly and/or inconsistently (e.g. collective bargaining, executive compensations, etc.)\n",
        "\n",
        "As such, we decided to pursue this analysis of the labeled dataset to find a way to help us come up with better and more consistent targets that are aligned with our objectives.\n",
        "\n",
        "The purpose of this notebook is to:\n",
        "* Understand how the targets from the labeled datasets were originally determined\n",
        "* Identify an approach to come up with rules to identify relevant disclosure paragraphs\n",
        "* Test our approach and present our findings"
      ]
    },
    {
      "cell_type": "markdown",
      "metadata": {
        "id": "hdvS7IIB9YV-"
      },
      "source": [
        "---\n",
        "# Preprocessing of the labeled dataset"
      ]
    },
    {
      "cell_type": "markdown",
      "metadata": {
        "id": "9k9fHIEMlMbp"
      },
      "source": [
        "## Step 1: Import and process labeled data in paragraph form\n",
        "The purpose of this section is to:\n",
        "* Import the labeled data, which is already in paragraph form\n",
        "* Process the labeled data by lemmatizing the words, removing stop words, keeping only alphabets and removing all words with entity types as recognized by spaCy (e.g. amounts, dates, country, names, etc.)\n",
        "* Export the processed data into csv for future use"
      ]
    },
    {
      "cell_type": "code",
      "metadata": {
        "colab": {
          "base_uri": "https://localhost:8080/"
        },
        "id": "pJxDjw1HiOio",
        "outputId": "ff403891-d049-4992-e341-57ea74d866c5"
      },
      "source": [
        "from google.colab import drive\n",
        "drive.mount('/content/drive')"
      ],
      "execution_count": null,
      "outputs": [
        {
          "output_type": "stream",
          "text": [
            "Drive already mounted at /content/drive; to attempt to forcibly remount, call drive.mount(\"/content/drive\", force_remount=True).\n"
          ],
          "name": "stdout"
        }
      ]
    },
    {
      "cell_type": "code",
      "metadata": {
        "colab": {
          "base_uri": "https://localhost:8080/"
        },
        "id": "Ola3qCKNnVbp",
        "outputId": "00aa9d66-c12e-418e-b0ab-4713dd905a70"
      },
      "source": [
        "import pandas as pd\n",
        "import re\n",
        "import spacy\n",
        "from tqdm.notebook import tqdm_notebook\n",
        "tqdm_notebook.pandas(desc=\"progress bar\")\n",
        "\n",
        "# nlp = spacy.load(\"en_core_web_sm\", disable=[\"tagger\", \"parser\", \"ner\", \"textcat\"])\n",
        "nlp = spacy.load(\"en_core_web_sm\")\n",
        "# nlp.tokenizer = custom_tokenizer(nlp)\n",
        "\n",
        "# import data from json\n",
        "df_300 = pd.read_json('/content/drive/MyDrive/DFG Cost of Human Rights Violations/Datasets/labeled_10k/di_hc_rel_train.json', orient=str)"
      ],
      "execution_count": null,
      "outputs": [
        {
          "output_type": "stream",
          "text": [
            "/usr/local/lib/python3.7/dist-packages/tqdm/std.py:658: FutureWarning: The Panel class is removed from pandas. Accessing it from the top-level namespace will also be removed in the next version\n",
            "  from pandas import Panel\n"
          ],
          "name": "stderr"
        }
      ]
    },
    {
      "cell_type": "code",
      "metadata": {
        "colab": {
          "background_save": true,
          "base_uri": "https://localhost:8080/",
          "height": 49,
          "referenced_widgets": [
            "772e099689184cc3a0c3d1c02434f47a",
            "112ae2670c824143b98f2b67d0418c59",
            "ddeb76d0e68d4c34815adade9cfccd40",
            "8c08bd68caa04e459f387d49cf9a3b03",
            "881cc1a506f24aa98bdd1bbb527195cd",
            "8c115baf043b496da5eef6ef2c88fc73",
            "bcf5acdb92a7480cb19ae9701d4136bd",
            "0160d1a0cef445c585d1579c4e664616"
          ]
        },
        "id": "jOIxMOi5uycn",
        "outputId": "adbbdbde-b73c-498b-d75e-9056d1aa5a4c"
      },
      "source": [
        "# identify relevant GICs\n",
        "df_300['relevance'] = df_300['relevance_assessment'].apply(lambda x: 1 if x == 'Relevant' else 0)\n",
        "df_300['gic_code'] = df_300['disclosure_topic_id'].str[-4:-1].astype('int')*df_300['relevance']\n",
        "\n",
        "# keep relevant columns\n",
        "df_300 = df_300[['excerpt_id', 'excerpt', 'gic_code']] \n",
        "\n",
        "# clean excerpt\n",
        "# df_300['excerpt'] = df_300['excerpt'].apply(lambda x: re.sub(r'[^\\w\\s]|\\n|\\d', ' ', x).lower())\n",
        "df_300['excerpt_lemma'] = df_300['excerpt'].progress_apply(\n",
        "    lambda x: ' '.join([t.lemma_.lower() \n",
        "    for t in nlp(x) if not t.is_stop and t.is_alpha and t.ent_type_ == '']))\n",
        "\n",
        "df_300.to_csv('/content/drive/MyDrive/DFG Cost of Human Rights Violations/Datasets/10k_clean_text/_0.7 visualized/labeled_data/di_hc_rel_train_lemmatized_no_ent_paragraph.csv', index=False)\n",
        "\n",
        "# check the distribution of GICs\n",
        "df_300['gic_code'].value_counts()"
      ],
      "execution_count": null,
      "outputs": [
        {
          "output_type": "display_data",
          "data": {
            "application/vnd.jupyter.widget-view+json": {
              "model_id": "772e099689184cc3a0c3d1c02434f47a",
              "version_major": 2,
              "version_minor": 0
            },
            "text/plain": [
              "HBox(children=(FloatProgress(value=0.0, description='progress bar', max=20626.0, style=ProgressStyle(descripti…"
            ]
          },
          "metadata": {
            "tags": []
          }
        },
        {
          "output_type": "stream",
          "text": [
            "\n"
          ],
          "name": "stdout"
        },
        {
          "output_type": "execute_result",
          "data": {
            "text/plain": [
              "0      11463\n",
              "330     4466\n",
              "320     2609\n",
              "310     2088\n",
              "Name: gic_code, dtype: int64"
            ]
          },
          "metadata": {
            "tags": []
          },
          "execution_count": 0
        }
      ]
    },
    {
      "cell_type": "markdown",
      "metadata": {
        "id": "HjsHIfqhlmdW"
      },
      "source": [
        "## Step 2: Import and process labeled data in sentence form\n",
        "The purpose of this section is to:\n",
        "* Import the labeled data\n",
        "* Break the paragraphs into sentences\n",
        "* Process the sentences by lemmatizing the words, removing stop words, keeping only alphabets and removing all words with entity types as recognized by spaCy (e.g. amounts, dates, country, names, etc.)\n",
        "* Export the processed data into csv for future use"
      ]
    },
    {
      "cell_type": "code",
      "metadata": {
        "colab": {
          "background_save": true
        },
        "id": "FneMlhUjlpnk",
        "outputId": "28e9f545-1e09-4b19-b819-d061804586bc"
      },
      "source": [
        "import pandas as pd\n",
        "import spacy\n",
        "from tqdm.notebook import tqdm_notebook\n",
        "tqdm_notebook.pandas(desc=\"progress bar\")\n",
        "\n",
        "nlp = spacy.load(\"en_core_web_sm\")\n",
        "\n",
        "# import data from json\n",
        "df_300 = pd.read_json('/content/drive/MyDrive/DFG Cost of Human Rights Violations/Datasets/labeled_10k/di_hc_rel_train.json')\n",
        "\n",
        "# identify relevant GICs\n",
        "df_300['relevance'] = df_300['relevance_assessment'].apply(lambda x: 1 if x == 'Relevant' else 0)\n",
        "df_300['gic_code'] = df_300['disclosure_topic_id'].str[-4:-1].astype('int')*df_300['relevance']\n",
        "\n",
        "# keep relevant columns\n",
        "df_300 = df_300[['excerpt_id', 'excerpt', 'gic_code']]\n",
        "\n",
        "def tokenize_excerpts(df):\n",
        "\n",
        "  result = pd.DataFrame()\n",
        "\n",
        "  for idx, r in df.iterrows():\n",
        "    if (idx+1) % 100 == 0:\n",
        "      print('processing '+str(idx+1)+'/'+str(df.shape[0]))\n",
        "    doc = nlp(r['excerpt'])\n",
        "    original_sents = []\n",
        "    tokenized_sents = []\n",
        "    tokenized_ids = []\n",
        "    sent_id = 0\n",
        "    for sent in doc.sents:\n",
        "      s = []\n",
        "      tokenized_ids.append(r['excerpt_id']+'-'+str(sent_id))\n",
        "      sent_id += 1\n",
        "      for t in sent:\n",
        "        if not t.is_stop and t.is_alpha and t.ent_type_ == '':\n",
        "          s.append(t.lemma_.lower())\n",
        "      original_sents.append(sent.text)\n",
        "      tokenized_sents.append(' '.join(s))\n",
        "    \n",
        "    df_tmp = pd.DataFrame()\n",
        "    df_tmp['excerpt_lemma'] = tokenized_sents\n",
        "    df_tmp['excerpt'] = original_sents\n",
        "    df_tmp['excerpt_id'] = tokenized_ids\n",
        "    df_tmp['gic_code'] = r['gic_code']\n",
        "\n",
        "    result = pd.concat([result, df_tmp])\n",
        "\n",
        "  return result\n",
        "\n",
        "df_300 = tokenize_excerpts(df_300)\n",
        "df_300.head(10)\n",
        "\n",
        "# save lemmatized labeled data\n",
        "# df_300.to_csv('/content/drive/MyDrive/DFG Cost of Human Rights Violations/Datasets/10k_clean_text/_0.7 visualized/labeled_data/di_hc_rel_train_lemmatized_no_ent_sent.csv', index=False)\n"
      ],
      "execution_count": null,
      "outputs": [
        {
          "output_type": "stream",
          "text": [
            "/usr/local/lib/python3.7/dist-packages/tqdm/std.py:658: FutureWarning: The Panel class is removed from pandas. Accessing it from the top-level namespace will also be removed in the next version\n",
            "  from pandas import Panel\n"
          ],
          "name": "stderr"
        },
        {
          "output_type": "stream",
          "text": [
            "processing 100/20626\n",
            "processing 200/20626\n",
            "processing 300/20626\n",
            "processing 400/20626\n",
            "processing 500/20626\n",
            "processing 600/20626\n",
            "processing 700/20626\n",
            "processing 800/20626\n",
            "processing 900/20626\n",
            "processing 1000/20626\n",
            "processing 1100/20626\n",
            "processing 1200/20626\n",
            "processing 1300/20626\n",
            "processing 1400/20626\n",
            "processing 1500/20626\n",
            "processing 1600/20626\n",
            "processing 1700/20626\n",
            "processing 1800/20626\n",
            "processing 1900/20626\n",
            "processing 2000/20626\n",
            "processing 2100/20626\n",
            "processing 2200/20626\n",
            "processing 2300/20626\n",
            "processing 2400/20626\n",
            "processing 2500/20626\n",
            "processing 2600/20626\n",
            "processing 2700/20626\n",
            "processing 2800/20626\n",
            "processing 2900/20626\n",
            "processing 3000/20626\n",
            "processing 3100/20626\n",
            "processing 3200/20626\n",
            "processing 3300/20626\n",
            "processing 3400/20626\n",
            "processing 3500/20626\n",
            "processing 3600/20626\n",
            "processing 3700/20626\n",
            "processing 3800/20626\n",
            "processing 3900/20626\n",
            "processing 4000/20626\n",
            "processing 4100/20626\n",
            "processing 4200/20626\n",
            "processing 4300/20626\n",
            "processing 4400/20626\n",
            "processing 4500/20626\n",
            "processing 4600/20626\n",
            "processing 4700/20626\n",
            "processing 4800/20626\n",
            "processing 4900/20626\n",
            "processing 5000/20626\n",
            "processing 5100/20626\n",
            "processing 5200/20626\n",
            "processing 5300/20626\n",
            "processing 5400/20626\n",
            "processing 5500/20626\n",
            "processing 5600/20626\n",
            "processing 5700/20626\n",
            "processing 5800/20626\n",
            "processing 5900/20626\n",
            "processing 6000/20626\n",
            "processing 6100/20626\n",
            "processing 6200/20626\n",
            "processing 6300/20626\n",
            "processing 6400/20626\n",
            "processing 6500/20626\n",
            "processing 6600/20626\n",
            "processing 6700/20626\n",
            "processing 6800/20626\n",
            "processing 6900/20626\n",
            "processing 7000/20626\n",
            "processing 7100/20626\n",
            "processing 7200/20626\n",
            "processing 7300/20626\n",
            "processing 7400/20626\n",
            "processing 7500/20626\n",
            "processing 7600/20626\n",
            "processing 7700/20626\n",
            "processing 7800/20626\n",
            "processing 7900/20626\n",
            "processing 8000/20626\n",
            "processing 8100/20626\n",
            "processing 8200/20626\n",
            "processing 8300/20626\n",
            "processing 8400/20626\n",
            "processing 8500/20626\n",
            "processing 8600/20626\n",
            "processing 8700/20626\n",
            "processing 8800/20626\n",
            "processing 8900/20626\n",
            "processing 9000/20626\n",
            "processing 9100/20626\n",
            "processing 9200/20626\n",
            "processing 9300/20626\n",
            "processing 9400/20626\n",
            "processing 9500/20626\n",
            "processing 9600/20626\n",
            "processing 9700/20626\n",
            "processing 9800/20626\n",
            "processing 9900/20626\n",
            "processing 10000/20626\n",
            "processing 10100/20626\n",
            "processing 10200/20626\n",
            "processing 10300/20626\n",
            "processing 10400/20626\n",
            "processing 10500/20626\n",
            "processing 10600/20626\n",
            "processing 10700/20626\n",
            "processing 10800/20626\n",
            "processing 10900/20626\n",
            "processing 11000/20626\n",
            "processing 11100/20626\n",
            "processing 11200/20626\n",
            "processing 11300/20626\n",
            "processing 11400/20626\n",
            "processing 11500/20626\n",
            "processing 11600/20626\n",
            "processing 11700/20626\n",
            "processing 11800/20626\n",
            "processing 11900/20626\n",
            "processing 12000/20626\n",
            "processing 12100/20626\n",
            "processing 12200/20626\n",
            "processing 12300/20626\n",
            "processing 12400/20626\n",
            "processing 12500/20626\n",
            "processing 12600/20626\n",
            "processing 12700/20626\n",
            "processing 12800/20626\n",
            "processing 12900/20626\n",
            "processing 13000/20626\n",
            "processing 13100/20626\n",
            "processing 13200/20626\n",
            "processing 13300/20626\n",
            "processing 13400/20626\n",
            "processing 13500/20626\n",
            "processing 13600/20626\n",
            "processing 13700/20626\n",
            "processing 13800/20626\n",
            "processing 13900/20626\n",
            "processing 14000/20626\n",
            "processing 14100/20626\n",
            "processing 14200/20626\n",
            "processing 14300/20626\n",
            "processing 14400/20626\n",
            "processing 14500/20626\n",
            "processing 14600/20626\n",
            "processing 14700/20626\n",
            "processing 14800/20626\n",
            "processing 14900/20626\n",
            "processing 15000/20626\n",
            "processing 15100/20626\n",
            "processing 15200/20626\n",
            "processing 15300/20626\n",
            "processing 15400/20626\n",
            "processing 15500/20626\n",
            "processing 15600/20626\n",
            "processing 15700/20626\n",
            "processing 15800/20626\n",
            "processing 15900/20626\n",
            "processing 16000/20626\n",
            "processing 16100/20626\n",
            "processing 16200/20626\n",
            "processing 16300/20626\n",
            "processing 16400/20626\n",
            "processing 16500/20626\n",
            "processing 16600/20626\n",
            "processing 16700/20626\n",
            "processing 16800/20626\n",
            "processing 16900/20626\n",
            "processing 17000/20626\n",
            "processing 17100/20626\n",
            "processing 17200/20626\n",
            "processing 17300/20626\n",
            "processing 17400/20626\n",
            "processing 17500/20626\n",
            "processing 17600/20626\n",
            "processing 17700/20626\n",
            "processing 17800/20626\n",
            "processing 17900/20626\n",
            "processing 18000/20626\n",
            "processing 18100/20626\n",
            "processing 18200/20626\n",
            "processing 18300/20626\n",
            "processing 18400/20626\n",
            "processing 18500/20626\n",
            "processing 18600/20626\n",
            "processing 18700/20626\n",
            "processing 18800/20626\n",
            "processing 18900/20626\n",
            "processing 19000/20626\n",
            "processing 19100/20626\n",
            "processing 19200/20626\n",
            "processing 19300/20626\n",
            "processing 19400/20626\n",
            "processing 19500/20626\n",
            "processing 19600/20626\n",
            "processing 19700/20626\n",
            "processing 19800/20626\n",
            "processing 19900/20626\n",
            "processing 20000/20626\n",
            "processing 20100/20626\n",
            "processing 20200/20626\n",
            "processing 20300/20626\n",
            "processing 20400/20626\n",
            "processing 20500/20626\n",
            "processing 20600/20626\n"
          ],
          "name": "stdout"
        },
        {
          "output_type": "execute_result",
          "data": {
            "text/html": [
              "<div>\n",
              "<style scoped>\n",
              "    .dataframe tbody tr th:only-of-type {\n",
              "        vertical-align: middle;\n",
              "    }\n",
              "\n",
              "    .dataframe tbody tr th {\n",
              "        vertical-align: top;\n",
              "    }\n",
              "\n",
              "    .dataframe thead th {\n",
              "        text-align: right;\n",
              "    }\n",
              "</style>\n",
              "<table border=\"1\" class=\"dataframe\">\n",
              "  <thead>\n",
              "    <tr style=\"text-align: right;\">\n",
              "      <th></th>\n",
              "      <th>excerpt_lemma</th>\n",
              "      <th>excerpt</th>\n",
              "      <th>excerpt_id</th>\n",
              "      <th>gic_code</th>\n",
              "    </tr>\n",
              "  </thead>\n",
              "  <tbody>\n",
              "    <tr>\n",
              "      <th>0</th>\n",
              "      <td>reclassification aoci follow</td>\n",
              "      <td>Reclassifications out of AOCI for the years en...</td>\n",
              "      <td>2017-AAL-TR-AL-310a-147641-0</td>\n",
              "      <td>0</td>\n",
              "    </tr>\n",
              "    <tr>\n",
              "      <th>1</th>\n",
              "      <td>amountreclassifiedfromaociaffecte line item th...</td>\n",
              "      <td>AmountreclassifiedfromAOCIAffected line items ...</td>\n",
              "      <td>2017-AAL-TR-AL-310a-147641-1</td>\n",
              "      <td>0</td>\n",
              "    </tr>\n",
              "    <tr>\n",
              "      <th>2</th>\n",
              "      <td>retiree medical postretirement benefit prior s...</td>\n",
              "      <td>retiree medical and other postretirement benef...</td>\n",
              "      <td>2017-AAL-TR-AL-310a-147641-2</td>\n",
              "      <td>0</td>\n",
              "    </tr>\n",
              "    <tr>\n",
              "      <th>0</th>\n",
              "      <td>earning share</td>\n",
              "      <td>Earnings per share:\\n</td>\n",
              "      <td>2017-AAL-TR-AL-310a-147711-0</td>\n",
              "      <td>0</td>\n",
              "    </tr>\n",
              "    <tr>\n",
              "      <th>1</th>\n",
              "      <td>share computation</td>\n",
              "      <td>Shares used for computation (in thousands):\\n</td>\n",
              "      <td>2017-AAL-TR-AL-310a-147711-1</td>\n",
              "      <td>0</td>\n",
              "    </tr>\n",
              "    <tr>\n",
              "      <th>2</th>\n",
              "      <td>result include total net special item principa...</td>\n",
              "      <td>Our fourth quarter 2017 results include $307 m...</td>\n",
              "      <td>2017-AAL-TR-AL-310a-147711-2</td>\n",
              "      <td>0</td>\n",
              "    </tr>\n",
              "    <tr>\n",
              "      <th>0</th>\n",
              "      <td>reclassification aoci follow</td>\n",
              "      <td>Reclassifications out of AOCI for the years en...</td>\n",
              "      <td>2017-AAL-TR-AL-310a-148045-0</td>\n",
              "      <td>0</td>\n",
              "    </tr>\n",
              "    <tr>\n",
              "      <th>1</th>\n",
              "      <td>amountreclassifiedfrom aociaffecte line item t...</td>\n",
              "      <td>Amountreclassifiedfrom AOCIAffected line items...</td>\n",
              "      <td>2017-AAL-TR-AL-310a-148045-1</td>\n",
              "      <td>0</td>\n",
              "    </tr>\n",
              "    <tr>\n",
              "      <th>2</th>\n",
              "      <td>end pension</td>\n",
              "      <td>Ended December31,AOCI Components20172016Amorti...</td>\n",
              "      <td>2017-AAL-TR-AL-310a-148045-2</td>\n",
              "      <td>0</td>\n",
              "    </tr>\n",
              "    <tr>\n",
              "      <th>3</th>\n",
              "      <td>retiree medical postretirement benefit prior s...</td>\n",
              "      <td>retiree medical and other postretirement benef...</td>\n",
              "      <td>2017-AAL-TR-AL-310a-148045-3</td>\n",
              "      <td>0</td>\n",
              "    </tr>\n",
              "  </tbody>\n",
              "</table>\n",
              "</div>"
            ],
            "text/plain": [
              "                                       excerpt_lemma  ... gic_code\n",
              "0                       reclassification aoci follow  ...        0\n",
              "1  amountreclassifiedfromaociaffecte line item th...  ...        0\n",
              "2  retiree medical postretirement benefit prior s...  ...        0\n",
              "0                                      earning share  ...        0\n",
              "1                                  share computation  ...        0\n",
              "2  result include total net special item principa...  ...        0\n",
              "0                       reclassification aoci follow  ...        0\n",
              "1  amountreclassifiedfrom aociaffecte line item t...  ...        0\n",
              "2                                        end pension  ...        0\n",
              "3  retiree medical postretirement benefit prior s...  ...        0\n",
              "\n",
              "[10 rows x 4 columns]"
            ]
          },
          "metadata": {
            "tags": []
          },
          "execution_count": 0
        }
      ]
    },
    {
      "cell_type": "markdown",
      "metadata": {
        "id": "QXEPgZtRlcyz"
      },
      "source": [
        "## Step 3: Load processed data\n",
        "The purpose of this section is to:\n",
        "* Load the processed data (whichever the user chooses)"
      ]
    },
    {
      "cell_type": "code",
      "metadata": {
        "colab": {
          "background_save": true
        },
        "id": "Zk5iotNH2YzK"
      },
      "source": [
        "import pandas as pd\n",
        "pd.set_option('display.max_columns', None)\n",
        "pd.set_option('display.max_rows', None)\n",
        "pd.set_option('display.max_colwidth', None)\n",
        "\n",
        "\n",
        "# load lemmatized labeled data\n",
        "df_300 = pd.read_csv('/content/drive/MyDrive/DFG Cost of Human Rights Violations/Datasets/10k_clean_text/_0.7 visualized/labeled_data/di_hc_rel_train_lemmatized_no_ent_sent.csv')\n",
        "# df_300.head(5)\n"
      ],
      "execution_count": null,
      "outputs": []
    },
    {
      "cell_type": "markdown",
      "metadata": {
        "id": "L-XV4sHG7gWX"
      },
      "source": [
        "---\n",
        "# Heuristic identification and testing"
      ]
    },
    {
      "cell_type": "markdown",
      "metadata": {
        "id": "y-BzycZl1v5X"
      },
      "source": [
        "## Step 1: Prepare data for analysis\n",
        "\n",
        "The purpose of this section is to:\n",
        "* Make a copy of the loaded dataframe containing the lemmatized excerpts in sentence form\n",
        "* Convert the multi-class target into a binary-class target representing whether the records is tagged with GIC 310 or not\n",
        "* Vectorize the lemmatized excerpts using tf-idf\n",
        "\n"
      ]
    },
    {
      "cell_type": "code",
      "metadata": {
        "colab": {
          "background_save": true
        },
        "id": "xVUDX-_P7gWY",
        "outputId": "0de5b98f-6854-4372-961e-739db63f2fbc"
      },
      "source": [
        "# make a copy for 330\n",
        "df_330 = df_300.copy()\n",
        "\n",
        "# remove nulls\n",
        "df_330 = df_330[~(df_330['excerpt_lemma'].isnull())]\n",
        "\n",
        "# mark 330 as relevant and everything else as 0\n",
        "df_330['relevant'] = df_330['gic_code'].apply(lambda x: 1 if x == 330 else 0)\n",
        "\n",
        "# confirm distribution\n",
        "df_330['relevant'].value_counts()"
      ],
      "execution_count": null,
      "outputs": [
        {
          "output_type": "execute_result",
          "data": {
            "text/plain": [
              "0    67553\n",
              "1    17936\n",
              "Name: relevant, dtype: int64"
            ]
          },
          "metadata": {
            "tags": []
          },
          "execution_count": 0
        }
      ]
    },
    {
      "cell_type": "code",
      "metadata": {
        "colab": {
          "background_save": true
        },
        "id": "cdB2lEQc7gWa"
      },
      "source": [
        "from sklearn.feature_extraction.text import TfidfVectorizer\n",
        "\n",
        "# vectorize excerpts using tfidf\n",
        "count_vec = TfidfVectorizer(stop_words='english', \n",
        "                            ngram_range=(1,3),\n",
        "                            min_df=10)\n",
        "X = df_330['excerpt_lemma']\n",
        "y = df_330['relevant']\n",
        "X = count_vec.fit_transform(X)\n",
        "vocabs = dict(sorted(count_vec.vocabulary_.items(), key=lambda item: item[1]))\n",
        "vocabs = [k for k, v in vocabs.items()]"
      ],
      "execution_count": null,
      "outputs": []
    },
    {
      "cell_type": "markdown",
      "metadata": {
        "id": "rwnGwZKa19po"
      },
      "source": [
        "## Step 2: Identify top and bottom n-grams correlated to target\n",
        "The purpose of this section is to:\n",
        "* Run a simple logistic regression over the dataset to determine the significance of each feature with respect to the targets\n",
        "* Generate a bar chart showing the n-grams that are most correlated to the targets\n",
        "* Generate a bar chart showing the n-grams that are least correlated to the targets"
      ]
    },
    {
      "cell_type": "code",
      "metadata": {
        "colab": {
          "background_save": true
        },
        "id": "_AnEEwin7gWa"
      },
      "source": [
        "from sklearn.linear_model import LogisticRegression\n",
        "\n",
        "# run a simple logistic regression over the data\n",
        "clf = LogisticRegression(class_weight='balanced', max_iter=100000)\n",
        "clf.fit(X,y)\n",
        "\n",
        "# generate a dataframe with n-gram and coefficients\n",
        "df_coef = pd.DataFrame()\n",
        "df_coef['n-gram'] = vocabs\n",
        "df_coef['coefficient'] = clf.coef_[0]"
      ],
      "execution_count": null,
      "outputs": []
    },
    {
      "cell_type": "code",
      "metadata": {
        "colab": {
          "background_save": true
        },
        "id": "fjb-jn_x7gWb",
        "outputId": "229067b9-70a9-48fa-fc64-083ca68fff7a"
      },
      "source": [
        "pip install chart_studio"
      ],
      "execution_count": null,
      "outputs": [
        {
          "output_type": "stream",
          "text": [
            "Collecting chart_studio\n",
            "\u001b[?25l  Downloading https://files.pythonhosted.org/packages/ca/ce/330794a6b6ca4b9182c38fc69dd2a9cbff60fd49421cb8648ee5fee352dc/chart_studio-1.1.0-py3-none-any.whl (64kB)\n",
            "\r\u001b[K     |█████                           | 10kB 12.9MB/s eta 0:00:01\r\u001b[K     |██████████▏                     | 20kB 19.6MB/s eta 0:00:01\r\u001b[K     |███████████████▎                | 30kB 17.8MB/s eta 0:00:01\r\u001b[K     |████████████████████▍           | 40kB 15.2MB/s eta 0:00:01\r\u001b[K     |█████████████████████████▍      | 51kB 9.6MB/s eta 0:00:01\r\u001b[K     |██████████████████████████████▌ | 61kB 10.9MB/s eta 0:00:01\r\u001b[K     |████████████████████████████████| 71kB 4.6MB/s \n",
            "\u001b[?25hRequirement already satisfied: plotly in /usr/local/lib/python3.7/dist-packages (from chart_studio) (4.4.1)\n",
            "Requirement already satisfied: six in /usr/local/lib/python3.7/dist-packages (from chart_studio) (1.15.0)\n",
            "Requirement already satisfied: retrying>=1.3.3 in /usr/local/lib/python3.7/dist-packages (from chart_studio) (1.3.3)\n",
            "Requirement already satisfied: requests in /usr/local/lib/python3.7/dist-packages (from chart_studio) (2.23.0)\n",
            "Requirement already satisfied: chardet<4,>=3.0.2 in /usr/local/lib/python3.7/dist-packages (from requests->chart_studio) (3.0.4)\n",
            "Requirement already satisfied: urllib3!=1.25.0,!=1.25.1,<1.26,>=1.21.1 in /usr/local/lib/python3.7/dist-packages (from requests->chart_studio) (1.24.3)\n",
            "Requirement already satisfied: idna<3,>=2.5 in /usr/local/lib/python3.7/dist-packages (from requests->chart_studio) (2.10)\n",
            "Requirement already satisfied: certifi>=2017.4.17 in /usr/local/lib/python3.7/dist-packages (from requests->chart_studio) (2021.5.30)\n",
            "Installing collected packages: chart-studio\n",
            "Successfully installed chart-studio-1.1.0\n"
          ],
          "name": "stdout"
        }
      ]
    },
    {
      "cell_type": "code",
      "metadata": {
        "colab": {
          "background_save": true
        },
        "id": "hN_ebERy7gWb",
        "outputId": "7aa17f9e-9899-4df7-a5d3-e88ac3e6adb6"
      },
      "source": [
        "import chart_studio\n",
        "import chart_studio.plotly as py\n",
        "import chart_studio.tools as tls\n",
        "import plotly.graph_objects as go\n",
        "\n",
        "\n",
        "# look at the top N n-grams by importance\n",
        "n = 50\n",
        "y_val = df_coef.sort_values(by='coefficient', ascending=False).head(n)['coefficient']\n",
        "x_val = df_coef.sort_values(by='coefficient', ascending=False).head(n)['n-gram']\n",
        "\n",
        "fig = go.Figure()\n",
        "trace_bar_tmp = go.Bar(x=x_val, y=y_val, marker={'color': 'lightseagreen'})\n",
        "fig.add_trace(trace_bar_tmp)\n",
        "fig.update_layout(\n",
        "    title='GIC 330: DEI: Top-'+str(n)+' n-grams by importance',\n",
        "    template = 'seaborn',\n",
        ")\n",
        "fig.update_xaxes(tickangle=45, title_text='')\n",
        "fig.update_yaxes(title_text='Coefficient')\n",
        "\n",
        "fig.show()"
      ],
      "execution_count": null,
      "outputs": [
        {
          "output_type": "display_data",
          "data": {
            "text/html": [
              "<html>\n",
              "<head><meta charset=\"utf-8\" /></head>\n",
              "<body>\n",
              "    <div>\n",
              "            <script src=\"https://cdnjs.cloudflare.com/ajax/libs/mathjax/2.7.5/MathJax.js?config=TeX-AMS-MML_SVG\"></script><script type=\"text/javascript\">if (window.MathJax) {MathJax.Hub.Config({SVG: {font: \"STIX-Web\"}});}</script>\n",
              "                <script type=\"text/javascript\">window.PlotlyConfig = {MathJaxConfig: 'local'};</script>\n",
              "        <script src=\"https://cdn.plot.ly/plotly-latest.min.js\"></script>    \n",
              "            <div id=\"725739e1-0170-4f3e-839e-56c38a170b9c\" class=\"plotly-graph-div\" style=\"height:525px; width:100%;\"></div>\n",
              "            <script type=\"text/javascript\">\n",
              "                \n",
              "                    window.PLOTLYENV=window.PLOTLYENV || {};\n",
              "                    \n",
              "                if (document.getElementById(\"725739e1-0170-4f3e-839e-56c38a170b9c\")) {\n",
              "                    Plotly.newPlot(\n",
              "                        '725739e1-0170-4f3e-839e-56c38a170b9c',\n",
              "                        [{\"marker\": {\"color\": \"lightseagreen\"}, \"type\": \"bar\", \"x\": [\"personnel\", \"retain\", \"engineer\", \"skill\", \"physician\", \"diversity\", \"gender\", \"hire\", \"woman\", \"attrition\", \"talent\", \"intense\", \"technical\", \"key\", \"hiring\", \"recruit\", \"patient\", \"loss service\", \"senior management\", \"legal obligation\", \"qualified\", \"attract\", \"regulation tend\", \"corporate culture\", \"success\", \"growth\", \"turnover\", \"professional\", \"sale force\", \"female\", \"effectively\", \"unable\", \"particular\", \"dialysis\", \"core asset\", \"difficult\", \"motivate\", \"programme\", \"housing fund\", \"departure\", \"individual\", \"key person\", \"scientific\", \"qualified personnel\", \"public company\", \"hospital\", \"confidentiality\", \"continue work\", \"expertise\", \"relationship employee\"], \"y\": [5.618697864944795, 4.004785189342438, 3.635890771938995, 3.625372777652336, 3.5293655118537024, 3.4760846107775274, 3.4131261697283892, 3.268948011671244, 3.264762232060009, 3.237168499463879, 3.138242822516777, 3.106842634136032, 3.0587738179726296, 2.9069540361781923, 2.793194210503576, 2.791665021563626, 2.6698061155444464, 2.5872157538272695, 2.550090040948825, 2.5361654075770557, 2.535121188409623, 2.479679437636162, 2.4589825640799923, 2.4585477459140055, 2.4474440113844036, 2.4446724154075623, 2.4428711631991282, 2.4357709662567224, 2.404602021664247, 2.3871293668266573, 2.377616245280649, 2.367665376239151, 2.3673460918187437, 2.3553034073603247, 2.352835815394972, 2.3456658300885525, 2.3392056546494078, 2.3112601937654733, 2.280832731348791, 2.2645947216175357, 2.2617665029129266, 2.2528269683949422, 2.2418776488078707, 2.2375676956248114, 2.19702421492354, 2.192351632677062, 2.1857968116500586, 2.172594408906299, 2.1696626265979426, 2.16802200231013]}],\n",
              "                        {\"template\": {\"data\": {\"bar\": [{\"error_x\": {\"color\": \"rgb(36,36,36)\"}, \"error_y\": {\"color\": \"rgb(36,36,36)\"}, \"marker\": {\"line\": {\"color\": \"rgb(234,234,242)\", \"width\": 0.5}}, \"type\": \"bar\"}], \"barpolar\": [{\"marker\": {\"line\": {\"color\": \"rgb(234,234,242)\", \"width\": 0.5}}, \"type\": \"barpolar\"}], \"carpet\": [{\"aaxis\": {\"endlinecolor\": \"rgb(36,36,36)\", \"gridcolor\": \"white\", \"linecolor\": \"white\", \"minorgridcolor\": \"white\", \"startlinecolor\": \"rgb(36,36,36)\"}, \"baxis\": {\"endlinecolor\": \"rgb(36,36,36)\", \"gridcolor\": \"white\", \"linecolor\": \"white\", \"minorgridcolor\": \"white\", \"startlinecolor\": \"rgb(36,36,36)\"}, \"type\": \"carpet\"}], \"choropleth\": [{\"colorbar\": {\"outlinewidth\": 0, \"tickcolor\": \"rgb(36,36,36)\", \"ticklen\": 8, \"ticks\": \"outside\", \"tickwidth\": 2}, \"type\": \"choropleth\"}], \"contour\": [{\"colorbar\": {\"outlinewidth\": 0, \"tickcolor\": \"rgb(36,36,36)\", \"ticklen\": 8, \"ticks\": \"outside\", \"tickwidth\": 2}, \"colorscale\": [[0.0, \"rgb(2,4,25)\"], [0.06274509803921569, \"rgb(24,15,41)\"], [0.12549019607843137, \"rgb(47,23,57)\"], [0.18823529411764706, \"rgb(71,28,72)\"], [0.25098039215686274, \"rgb(97,30,82)\"], [0.3137254901960784, \"rgb(123,30,89)\"], [0.3764705882352941, \"rgb(150,27,91)\"], [0.4392156862745098, \"rgb(177,22,88)\"], [0.5019607843137255, \"rgb(203,26,79)\"], [0.5647058823529412, \"rgb(223,47,67)\"], [0.6274509803921569, \"rgb(236,76,61)\"], [0.6901960784313725, \"rgb(242,107,73)\"], [0.7529411764705882, \"rgb(244,135,95)\"], [0.8156862745098039, \"rgb(245,162,122)\"], [0.8784313725490196, \"rgb(246,188,153)\"], [0.9411764705882353, \"rgb(247,212,187)\"], [1.0, \"rgb(250,234,220)\"]], \"type\": \"contour\"}], \"contourcarpet\": [{\"colorbar\": {\"outlinewidth\": 0, \"tickcolor\": \"rgb(36,36,36)\", \"ticklen\": 8, \"ticks\": \"outside\", \"tickwidth\": 2}, \"type\": \"contourcarpet\"}], \"heatmap\": [{\"colorbar\": {\"outlinewidth\": 0, \"tickcolor\": \"rgb(36,36,36)\", \"ticklen\": 8, \"ticks\": \"outside\", \"tickwidth\": 2}, \"colorscale\": [[0.0, \"rgb(2,4,25)\"], [0.06274509803921569, \"rgb(24,15,41)\"], [0.12549019607843137, \"rgb(47,23,57)\"], [0.18823529411764706, \"rgb(71,28,72)\"], [0.25098039215686274, \"rgb(97,30,82)\"], [0.3137254901960784, \"rgb(123,30,89)\"], [0.3764705882352941, \"rgb(150,27,91)\"], [0.4392156862745098, \"rgb(177,22,88)\"], [0.5019607843137255, \"rgb(203,26,79)\"], [0.5647058823529412, \"rgb(223,47,67)\"], [0.6274509803921569, \"rgb(236,76,61)\"], [0.6901960784313725, \"rgb(242,107,73)\"], [0.7529411764705882, \"rgb(244,135,95)\"], [0.8156862745098039, \"rgb(245,162,122)\"], [0.8784313725490196, \"rgb(246,188,153)\"], [0.9411764705882353, \"rgb(247,212,187)\"], [1.0, \"rgb(250,234,220)\"]], \"type\": \"heatmap\"}], \"heatmapgl\": [{\"colorbar\": {\"outlinewidth\": 0, \"tickcolor\": \"rgb(36,36,36)\", \"ticklen\": 8, \"ticks\": \"outside\", \"tickwidth\": 2}, \"colorscale\": [[0.0, \"rgb(2,4,25)\"], [0.06274509803921569, \"rgb(24,15,41)\"], [0.12549019607843137, \"rgb(47,23,57)\"], [0.18823529411764706, \"rgb(71,28,72)\"], [0.25098039215686274, \"rgb(97,30,82)\"], [0.3137254901960784, \"rgb(123,30,89)\"], [0.3764705882352941, \"rgb(150,27,91)\"], [0.4392156862745098, \"rgb(177,22,88)\"], [0.5019607843137255, \"rgb(203,26,79)\"], [0.5647058823529412, \"rgb(223,47,67)\"], [0.6274509803921569, \"rgb(236,76,61)\"], [0.6901960784313725, \"rgb(242,107,73)\"], [0.7529411764705882, \"rgb(244,135,95)\"], [0.8156862745098039, \"rgb(245,162,122)\"], [0.8784313725490196, \"rgb(246,188,153)\"], [0.9411764705882353, \"rgb(247,212,187)\"], [1.0, \"rgb(250,234,220)\"]], \"type\": \"heatmapgl\"}], \"histogram\": [{\"marker\": {\"colorbar\": {\"outlinewidth\": 0, \"tickcolor\": \"rgb(36,36,36)\", \"ticklen\": 8, \"ticks\": \"outside\", \"tickwidth\": 2}}, \"type\": \"histogram\"}], \"histogram2d\": [{\"colorbar\": {\"outlinewidth\": 0, \"tickcolor\": \"rgb(36,36,36)\", \"ticklen\": 8, \"ticks\": \"outside\", \"tickwidth\": 2}, \"colorscale\": [[0.0, \"rgb(2,4,25)\"], [0.06274509803921569, \"rgb(24,15,41)\"], [0.12549019607843137, \"rgb(47,23,57)\"], [0.18823529411764706, \"rgb(71,28,72)\"], [0.25098039215686274, \"rgb(97,30,82)\"], [0.3137254901960784, \"rgb(123,30,89)\"], [0.3764705882352941, \"rgb(150,27,91)\"], [0.4392156862745098, \"rgb(177,22,88)\"], [0.5019607843137255, \"rgb(203,26,79)\"], [0.5647058823529412, \"rgb(223,47,67)\"], [0.6274509803921569, \"rgb(236,76,61)\"], [0.6901960784313725, \"rgb(242,107,73)\"], [0.7529411764705882, \"rgb(244,135,95)\"], [0.8156862745098039, \"rgb(245,162,122)\"], [0.8784313725490196, \"rgb(246,188,153)\"], [0.9411764705882353, \"rgb(247,212,187)\"], [1.0, \"rgb(250,234,220)\"]], \"type\": \"histogram2d\"}], \"histogram2dcontour\": [{\"colorbar\": {\"outlinewidth\": 0, \"tickcolor\": \"rgb(36,36,36)\", \"ticklen\": 8, \"ticks\": \"outside\", \"tickwidth\": 2}, \"colorscale\": [[0.0, \"rgb(2,4,25)\"], [0.06274509803921569, \"rgb(24,15,41)\"], [0.12549019607843137, \"rgb(47,23,57)\"], [0.18823529411764706, \"rgb(71,28,72)\"], [0.25098039215686274, \"rgb(97,30,82)\"], [0.3137254901960784, \"rgb(123,30,89)\"], [0.3764705882352941, \"rgb(150,27,91)\"], [0.4392156862745098, \"rgb(177,22,88)\"], [0.5019607843137255, \"rgb(203,26,79)\"], [0.5647058823529412, \"rgb(223,47,67)\"], [0.6274509803921569, \"rgb(236,76,61)\"], [0.6901960784313725, \"rgb(242,107,73)\"], [0.7529411764705882, \"rgb(244,135,95)\"], [0.8156862745098039, \"rgb(245,162,122)\"], [0.8784313725490196, \"rgb(246,188,153)\"], [0.9411764705882353, \"rgb(247,212,187)\"], [1.0, \"rgb(250,234,220)\"]], \"type\": \"histogram2dcontour\"}], \"mesh3d\": [{\"colorbar\": {\"outlinewidth\": 0, \"tickcolor\": \"rgb(36,36,36)\", \"ticklen\": 8, \"ticks\": \"outside\", \"tickwidth\": 2}, \"type\": \"mesh3d\"}], \"parcoords\": [{\"line\": {\"colorbar\": {\"outlinewidth\": 0, \"tickcolor\": \"rgb(36,36,36)\", \"ticklen\": 8, \"ticks\": \"outside\", \"tickwidth\": 2}}, \"type\": \"parcoords\"}], \"pie\": [{\"automargin\": true, \"type\": \"pie\"}], \"scatter\": [{\"marker\": {\"colorbar\": {\"outlinewidth\": 0, \"tickcolor\": \"rgb(36,36,36)\", \"ticklen\": 8, \"ticks\": \"outside\", \"tickwidth\": 2}}, \"type\": \"scatter\"}], \"scatter3d\": [{\"line\": {\"colorbar\": {\"outlinewidth\": 0, \"tickcolor\": \"rgb(36,36,36)\", \"ticklen\": 8, \"ticks\": \"outside\", \"tickwidth\": 2}}, \"marker\": {\"colorbar\": {\"outlinewidth\": 0, \"tickcolor\": \"rgb(36,36,36)\", \"ticklen\": 8, \"ticks\": \"outside\", \"tickwidth\": 2}}, \"type\": \"scatter3d\"}], \"scattercarpet\": [{\"marker\": {\"colorbar\": {\"outlinewidth\": 0, \"tickcolor\": \"rgb(36,36,36)\", \"ticklen\": 8, \"ticks\": \"outside\", \"tickwidth\": 2}}, \"type\": \"scattercarpet\"}], \"scattergeo\": [{\"marker\": {\"colorbar\": {\"outlinewidth\": 0, \"tickcolor\": \"rgb(36,36,36)\", \"ticklen\": 8, \"ticks\": \"outside\", \"tickwidth\": 2}}, \"type\": \"scattergeo\"}], \"scattergl\": [{\"marker\": {\"colorbar\": {\"outlinewidth\": 0, \"tickcolor\": \"rgb(36,36,36)\", \"ticklen\": 8, \"ticks\": \"outside\", \"tickwidth\": 2}}, \"type\": \"scattergl\"}], \"scattermapbox\": [{\"marker\": {\"colorbar\": {\"outlinewidth\": 0, \"tickcolor\": \"rgb(36,36,36)\", \"ticklen\": 8, \"ticks\": \"outside\", \"tickwidth\": 2}}, \"type\": \"scattermapbox\"}], \"scatterpolar\": [{\"marker\": {\"colorbar\": {\"outlinewidth\": 0, \"tickcolor\": \"rgb(36,36,36)\", \"ticklen\": 8, \"ticks\": \"outside\", \"tickwidth\": 2}}, \"type\": \"scatterpolar\"}], \"scatterpolargl\": [{\"marker\": {\"colorbar\": {\"outlinewidth\": 0, \"tickcolor\": \"rgb(36,36,36)\", \"ticklen\": 8, \"ticks\": \"outside\", \"tickwidth\": 2}}, \"type\": \"scatterpolargl\"}], \"scatterternary\": [{\"marker\": {\"colorbar\": {\"outlinewidth\": 0, \"tickcolor\": \"rgb(36,36,36)\", \"ticklen\": 8, \"ticks\": \"outside\", \"tickwidth\": 2}}, \"type\": \"scatterternary\"}], \"surface\": [{\"colorbar\": {\"outlinewidth\": 0, \"tickcolor\": \"rgb(36,36,36)\", \"ticklen\": 8, \"ticks\": \"outside\", \"tickwidth\": 2}, \"colorscale\": [[0.0, \"rgb(2,4,25)\"], [0.06274509803921569, \"rgb(24,15,41)\"], [0.12549019607843137, \"rgb(47,23,57)\"], [0.18823529411764706, \"rgb(71,28,72)\"], [0.25098039215686274, \"rgb(97,30,82)\"], [0.3137254901960784, \"rgb(123,30,89)\"], [0.3764705882352941, \"rgb(150,27,91)\"], [0.4392156862745098, \"rgb(177,22,88)\"], [0.5019607843137255, \"rgb(203,26,79)\"], [0.5647058823529412, \"rgb(223,47,67)\"], [0.6274509803921569, \"rgb(236,76,61)\"], [0.6901960784313725, \"rgb(242,107,73)\"], [0.7529411764705882, \"rgb(244,135,95)\"], [0.8156862745098039, \"rgb(245,162,122)\"], [0.8784313725490196, \"rgb(246,188,153)\"], [0.9411764705882353, \"rgb(247,212,187)\"], [1.0, \"rgb(250,234,220)\"]], \"type\": \"surface\"}], \"table\": [{\"cells\": {\"fill\": {\"color\": \"rgb(231,231,240)\"}, \"line\": {\"color\": \"white\"}}, \"header\": {\"fill\": {\"color\": \"rgb(183,183,191)\"}, \"line\": {\"color\": \"white\"}}, \"type\": \"table\"}]}, \"layout\": {\"annotationdefaults\": {\"arrowcolor\": \"rgb(67,103,167)\"}, \"coloraxis\": {\"colorbar\": {\"outlinewidth\": 0, \"tickcolor\": \"rgb(36,36,36)\", \"ticklen\": 8, \"ticks\": \"outside\", \"tickwidth\": 2}}, \"colorscale\": {\"sequential\": [[0.0, \"rgb(2,4,25)\"], [0.06274509803921569, \"rgb(24,15,41)\"], [0.12549019607843137, \"rgb(47,23,57)\"], [0.18823529411764706, \"rgb(71,28,72)\"], [0.25098039215686274, \"rgb(97,30,82)\"], [0.3137254901960784, \"rgb(123,30,89)\"], [0.3764705882352941, \"rgb(150,27,91)\"], [0.4392156862745098, \"rgb(177,22,88)\"], [0.5019607843137255, \"rgb(203,26,79)\"], [0.5647058823529412, \"rgb(223,47,67)\"], [0.6274509803921569, \"rgb(236,76,61)\"], [0.6901960784313725, \"rgb(242,107,73)\"], [0.7529411764705882, \"rgb(244,135,95)\"], [0.8156862745098039, \"rgb(245,162,122)\"], [0.8784313725490196, \"rgb(246,188,153)\"], [0.9411764705882353, \"rgb(247,212,187)\"], [1.0, \"rgb(250,234,220)\"]], \"sequentialminus\": [[0.0, \"rgb(2,4,25)\"], [0.06274509803921569, \"rgb(24,15,41)\"], [0.12549019607843137, \"rgb(47,23,57)\"], [0.18823529411764706, \"rgb(71,28,72)\"], [0.25098039215686274, \"rgb(97,30,82)\"], [0.3137254901960784, \"rgb(123,30,89)\"], [0.3764705882352941, \"rgb(150,27,91)\"], [0.4392156862745098, \"rgb(177,22,88)\"], [0.5019607843137255, \"rgb(203,26,79)\"], [0.5647058823529412, \"rgb(223,47,67)\"], [0.6274509803921569, \"rgb(236,76,61)\"], [0.6901960784313725, \"rgb(242,107,73)\"], [0.7529411764705882, \"rgb(244,135,95)\"], [0.8156862745098039, \"rgb(245,162,122)\"], [0.8784313725490196, \"rgb(246,188,153)\"], [0.9411764705882353, \"rgb(247,212,187)\"], [1.0, \"rgb(250,234,220)\"]]}, \"colorway\": [\"rgb(76,114,176)\", \"rgb(221,132,82)\", \"rgb(85,168,104)\", \"rgb(196,78,82)\", \"rgb(129,114,179)\", \"rgb(147,120,96)\", \"rgb(218,139,195)\", \"rgb(140,140,140)\", \"rgb(204,185,116)\", \"rgb(100,181,205)\"], \"font\": {\"color\": \"rgb(36,36,36)\"}, \"geo\": {\"bgcolor\": \"white\", \"lakecolor\": \"white\", \"landcolor\": \"rgb(234,234,242)\", \"showlakes\": true, \"showland\": true, \"subunitcolor\": \"white\"}, \"hoverlabel\": {\"align\": \"left\"}, \"hovermode\": \"closest\", \"paper_bgcolor\": \"white\", \"plot_bgcolor\": \"rgb(234,234,242)\", \"polar\": {\"angularaxis\": {\"gridcolor\": \"white\", \"linecolor\": \"white\", \"showgrid\": true, \"ticks\": \"\"}, \"bgcolor\": \"rgb(234,234,242)\", \"radialaxis\": {\"gridcolor\": \"white\", \"linecolor\": \"white\", \"showgrid\": true, \"ticks\": \"\"}}, \"scene\": {\"xaxis\": {\"backgroundcolor\": \"rgb(234,234,242)\", \"gridcolor\": \"white\", \"gridwidth\": 2, \"linecolor\": \"white\", \"showbackground\": true, \"showgrid\": true, \"ticks\": \"\", \"zerolinecolor\": \"white\"}, \"yaxis\": {\"backgroundcolor\": \"rgb(234,234,242)\", \"gridcolor\": \"white\", \"gridwidth\": 2, \"linecolor\": \"white\", \"showbackground\": true, \"showgrid\": true, \"ticks\": \"\", \"zerolinecolor\": \"white\"}, \"zaxis\": {\"backgroundcolor\": \"rgb(234,234,242)\", \"gridcolor\": \"white\", \"gridwidth\": 2, \"linecolor\": \"white\", \"showbackground\": true, \"showgrid\": true, \"ticks\": \"\", \"zerolinecolor\": \"white\"}}, \"shapedefaults\": {\"fillcolor\": \"rgb(67,103,167)\", \"line\": {\"width\": 0}, \"opacity\": 0.5}, \"ternary\": {\"aaxis\": {\"gridcolor\": \"white\", \"linecolor\": \"white\", \"showgrid\": true, \"ticks\": \"\"}, \"baxis\": {\"gridcolor\": \"white\", \"linecolor\": \"white\", \"showgrid\": true, \"ticks\": \"\"}, \"bgcolor\": \"rgb(234,234,242)\", \"caxis\": {\"gridcolor\": \"white\", \"linecolor\": \"white\", \"showgrid\": true, \"ticks\": \"\"}}, \"xaxis\": {\"automargin\": true, \"gridcolor\": \"white\", \"linecolor\": \"white\", \"showgrid\": true, \"ticks\": \"\", \"title\": {\"standoff\": 15}, \"zerolinecolor\": \"white\"}, \"yaxis\": {\"automargin\": true, \"gridcolor\": \"white\", \"linecolor\": \"white\", \"showgrid\": true, \"ticks\": \"\", \"title\": {\"standoff\": 15}, \"zerolinecolor\": \"white\"}}}, \"title\": {\"text\": \"GIC 330: DEI: Top-50 n-grams by importance\"}, \"xaxis\": {\"tickangle\": 45, \"title\": {\"text\": \"\"}}, \"yaxis\": {\"title\": {\"text\": \"Coefficient\"}}},\n",
              "                        {\"responsive\": true}\n",
              "                    ).then(function(){\n",
              "                            \n",
              "var gd = document.getElementById('725739e1-0170-4f3e-839e-56c38a170b9c');\n",
              "var x = new MutationObserver(function (mutations, observer) {{\n",
              "        var display = window.getComputedStyle(gd).display;\n",
              "        if (!display || display === 'none') {{\n",
              "            console.log([gd, 'removed!']);\n",
              "            Plotly.purge(gd);\n",
              "            observer.disconnect();\n",
              "        }}\n",
              "}});\n",
              "\n",
              "// Listen for the removal of the full notebook cells\n",
              "var notebookContainer = gd.closest('#notebook-container');\n",
              "if (notebookContainer) {{\n",
              "    x.observe(notebookContainer, {childList: true});\n",
              "}}\n",
              "\n",
              "// Listen for the clearing of the current output cell\n",
              "var outputEl = gd.closest('.output');\n",
              "if (outputEl) {{\n",
              "    x.observe(outputEl, {childList: true});\n",
              "}}\n",
              "\n",
              "                        })\n",
              "                };\n",
              "                \n",
              "            </script>\n",
              "        </div>\n",
              "</body>\n",
              "</html>"
            ]
          },
          "metadata": {
            "tags": []
          }
        }
      ]
    },
    {
      "cell_type": "code",
      "metadata": {
        "colab": {
          "background_save": true
        },
        "id": "yZWCmbvS7gWc",
        "outputId": "d9323cb4-37bc-43a8-d443-d2958f6e5f3a"
      },
      "source": [
        "import chart_studio\n",
        "import chart_studio.plotly as py\n",
        "import chart_studio.tools as tls\n",
        "import plotly.graph_objects as go\n",
        "\n",
        "# look at the bottom N n-grams by importance\n",
        "n = 50\n",
        "y_val = df_coef.sort_values(by='coefficient', ascending=True).head(n)['coefficient']\n",
        "x_val = df_coef.sort_values(by='coefficient', ascending=True).head(n)['n-gram']\n",
        "\n",
        "fig = go.Figure()\n",
        "trace_bar_tmp = go.Bar(x=x_val, y=y_val, marker={'color': 'lightsalmon'})\n",
        "fig.add_trace(trace_bar_tmp)\n",
        "fig.update_layout(\n",
        "    title='GIC 330: DEI: Bottom-'+str(n)+' n-grams by importance',\n",
        "    template = 'seaborn'\n",
        ")\n",
        "fig.update_xaxes(tickangle=45, title_text='')\n",
        "fig.update_yaxes(title_text='Coefficient')\n",
        "\n",
        "fig.show()"
      ],
      "execution_count": null,
      "outputs": [
        {
          "output_type": "display_data",
          "data": {
            "text/html": [
              "<html>\n",
              "<head><meta charset=\"utf-8\" /></head>\n",
              "<body>\n",
              "    <div>\n",
              "            <script src=\"https://cdnjs.cloudflare.com/ajax/libs/mathjax/2.7.5/MathJax.js?config=TeX-AMS-MML_SVG\"></script><script type=\"text/javascript\">if (window.MathJax) {MathJax.Hub.Config({SVG: {font: \"STIX-Web\"}});}</script>\n",
              "                <script type=\"text/javascript\">window.PlotlyConfig = {MathJaxConfig: 'local'};</script>\n",
              "        <script src=\"https://cdn.plot.ly/plotly-latest.min.js\"></script>    \n",
              "            <div id=\"321388da-d2e7-4825-960f-a6c79de33aae\" class=\"plotly-graph-div\" style=\"height:525px; width:100%;\"></div>\n",
              "            <script type=\"text/javascript\">\n",
              "                \n",
              "                    window.PLOTLYENV=window.PLOTLYENV || {};\n",
              "                    \n",
              "                if (document.getElementById(\"321388da-d2e7-4825-960f-a6c79de33aae\")) {\n",
              "                    Plotly.newPlot(\n",
              "                        '321388da-d2e7-4825-960f-a6c79de33aae',\n",
              "                        [{\"marker\": {\"color\": \"lightsalmon\"}, \"type\": \"bar\", \"x\": [\"safety\", \"environmental\", \"vessel\", \"driver\", \"regulation\", \"mining\", \"transportation\", \"restaurant\", \"injury\", \"construction\", \"pilot\", \"carrier\", \"incident\", \"fleet\", \"store\", \"compliance\", \"operator\", \"damage\", \"shall\", \"accident\", \"property\", \"\\u00e8s\", \"crew\", \"vehicle\", \"hazardous\", \"associate\", \"airline\", \"inspection\", \"site\", \"jurisdiction\", \"standard\", \"equipment\", \"gaming\", \"govern\", \"liability\", \"asset\", \"negotiate\", \"capital\", \"fuel\", \"coal\", \"freight\", \"rule\", \"land\", \"federal\", \"flight\", \"worker compensation\", \"oil\", \"aircraft\", \"matter\", \"project\"], \"y\": [-9.385079302157406, -5.892120272315423, -5.175819282408009, -4.6900494465311855, -4.345406253625565, -4.289094872474938, -4.029118825354457, -4.023358182467772, -3.6601555638387477, -3.6344201107556393, -3.5216332408914766, -3.4749480833610376, -3.3345979263257304, -3.1579593848320933, -3.029701321323092, -3.01060278916694, -2.9506120340557183, -2.824241056394462, -2.795850027702187, -2.7669428391310116, -2.7662950405331035, -2.702254033107686, -2.6968293895956315, -2.6891013619699256, -2.56611761041093, -2.5303561322119648, -2.527504276065296, -2.5098318943572284, -2.499299297043721, -2.442310842260243, -2.4286042381314363, -2.4186323068320155, -2.4131588437718627, -2.4024493851181203, -2.394111280502969, -2.39072088401562, -2.3759647206188514, -2.3591933075367297, -2.3576291677447987, -2.3562594967947224, -2.356230731553508, -2.3107211770459135, -2.2936616571554334, -2.286387409619451, -2.269360541590192, -2.2620758849115497, -2.255599622894753, -2.2195009335518283, -2.2026724021634236, -2.1690425794563333]}],\n",
              "                        {\"template\": {\"data\": {\"bar\": [{\"error_x\": {\"color\": \"rgb(36,36,36)\"}, \"error_y\": {\"color\": \"rgb(36,36,36)\"}, \"marker\": {\"line\": {\"color\": \"rgb(234,234,242)\", \"width\": 0.5}}, \"type\": \"bar\"}], \"barpolar\": [{\"marker\": {\"line\": {\"color\": \"rgb(234,234,242)\", \"width\": 0.5}}, \"type\": \"barpolar\"}], \"carpet\": [{\"aaxis\": {\"endlinecolor\": \"rgb(36,36,36)\", \"gridcolor\": \"white\", \"linecolor\": \"white\", \"minorgridcolor\": \"white\", \"startlinecolor\": \"rgb(36,36,36)\"}, \"baxis\": {\"endlinecolor\": \"rgb(36,36,36)\", \"gridcolor\": \"white\", \"linecolor\": \"white\", \"minorgridcolor\": \"white\", \"startlinecolor\": \"rgb(36,36,36)\"}, \"type\": \"carpet\"}], \"choropleth\": [{\"colorbar\": {\"outlinewidth\": 0, \"tickcolor\": \"rgb(36,36,36)\", \"ticklen\": 8, \"ticks\": \"outside\", \"tickwidth\": 2}, \"type\": \"choropleth\"}], \"contour\": [{\"colorbar\": {\"outlinewidth\": 0, \"tickcolor\": \"rgb(36,36,36)\", \"ticklen\": 8, \"ticks\": \"outside\", \"tickwidth\": 2}, \"colorscale\": [[0.0, \"rgb(2,4,25)\"], [0.06274509803921569, \"rgb(24,15,41)\"], [0.12549019607843137, \"rgb(47,23,57)\"], [0.18823529411764706, \"rgb(71,28,72)\"], [0.25098039215686274, \"rgb(97,30,82)\"], [0.3137254901960784, \"rgb(123,30,89)\"], [0.3764705882352941, \"rgb(150,27,91)\"], [0.4392156862745098, \"rgb(177,22,88)\"], [0.5019607843137255, \"rgb(203,26,79)\"], [0.5647058823529412, \"rgb(223,47,67)\"], [0.6274509803921569, \"rgb(236,76,61)\"], [0.6901960784313725, \"rgb(242,107,73)\"], [0.7529411764705882, \"rgb(244,135,95)\"], [0.8156862745098039, \"rgb(245,162,122)\"], [0.8784313725490196, \"rgb(246,188,153)\"], [0.9411764705882353, \"rgb(247,212,187)\"], [1.0, \"rgb(250,234,220)\"]], \"type\": \"contour\"}], \"contourcarpet\": [{\"colorbar\": {\"outlinewidth\": 0, \"tickcolor\": \"rgb(36,36,36)\", \"ticklen\": 8, \"ticks\": \"outside\", \"tickwidth\": 2}, \"type\": \"contourcarpet\"}], \"heatmap\": [{\"colorbar\": {\"outlinewidth\": 0, \"tickcolor\": \"rgb(36,36,36)\", \"ticklen\": 8, \"ticks\": \"outside\", \"tickwidth\": 2}, \"colorscale\": [[0.0, \"rgb(2,4,25)\"], [0.06274509803921569, \"rgb(24,15,41)\"], [0.12549019607843137, \"rgb(47,23,57)\"], [0.18823529411764706, \"rgb(71,28,72)\"], [0.25098039215686274, \"rgb(97,30,82)\"], [0.3137254901960784, \"rgb(123,30,89)\"], [0.3764705882352941, \"rgb(150,27,91)\"], [0.4392156862745098, \"rgb(177,22,88)\"], [0.5019607843137255, \"rgb(203,26,79)\"], [0.5647058823529412, \"rgb(223,47,67)\"], [0.6274509803921569, \"rgb(236,76,61)\"], [0.6901960784313725, \"rgb(242,107,73)\"], [0.7529411764705882, \"rgb(244,135,95)\"], [0.8156862745098039, \"rgb(245,162,122)\"], [0.8784313725490196, \"rgb(246,188,153)\"], [0.9411764705882353, \"rgb(247,212,187)\"], [1.0, \"rgb(250,234,220)\"]], \"type\": \"heatmap\"}], \"heatmapgl\": [{\"colorbar\": {\"outlinewidth\": 0, \"tickcolor\": \"rgb(36,36,36)\", \"ticklen\": 8, \"ticks\": \"outside\", \"tickwidth\": 2}, \"colorscale\": [[0.0, \"rgb(2,4,25)\"], [0.06274509803921569, \"rgb(24,15,41)\"], [0.12549019607843137, \"rgb(47,23,57)\"], [0.18823529411764706, \"rgb(71,28,72)\"], [0.25098039215686274, \"rgb(97,30,82)\"], [0.3137254901960784, \"rgb(123,30,89)\"], [0.3764705882352941, \"rgb(150,27,91)\"], [0.4392156862745098, \"rgb(177,22,88)\"], [0.5019607843137255, \"rgb(203,26,79)\"], [0.5647058823529412, \"rgb(223,47,67)\"], [0.6274509803921569, \"rgb(236,76,61)\"], [0.6901960784313725, \"rgb(242,107,73)\"], [0.7529411764705882, \"rgb(244,135,95)\"], [0.8156862745098039, \"rgb(245,162,122)\"], [0.8784313725490196, \"rgb(246,188,153)\"], [0.9411764705882353, \"rgb(247,212,187)\"], [1.0, \"rgb(250,234,220)\"]], \"type\": \"heatmapgl\"}], \"histogram\": [{\"marker\": {\"colorbar\": {\"outlinewidth\": 0, \"tickcolor\": \"rgb(36,36,36)\", \"ticklen\": 8, \"ticks\": \"outside\", \"tickwidth\": 2}}, \"type\": \"histogram\"}], \"histogram2d\": [{\"colorbar\": {\"outlinewidth\": 0, \"tickcolor\": \"rgb(36,36,36)\", \"ticklen\": 8, \"ticks\": \"outside\", \"tickwidth\": 2}, \"colorscale\": [[0.0, \"rgb(2,4,25)\"], [0.06274509803921569, \"rgb(24,15,41)\"], [0.12549019607843137, \"rgb(47,23,57)\"], [0.18823529411764706, \"rgb(71,28,72)\"], [0.25098039215686274, \"rgb(97,30,82)\"], [0.3137254901960784, \"rgb(123,30,89)\"], [0.3764705882352941, \"rgb(150,27,91)\"], [0.4392156862745098, \"rgb(177,22,88)\"], [0.5019607843137255, \"rgb(203,26,79)\"], [0.5647058823529412, \"rgb(223,47,67)\"], [0.6274509803921569, \"rgb(236,76,61)\"], [0.6901960784313725, \"rgb(242,107,73)\"], [0.7529411764705882, \"rgb(244,135,95)\"], [0.8156862745098039, \"rgb(245,162,122)\"], [0.8784313725490196, \"rgb(246,188,153)\"], [0.9411764705882353, \"rgb(247,212,187)\"], [1.0, \"rgb(250,234,220)\"]], \"type\": \"histogram2d\"}], \"histogram2dcontour\": [{\"colorbar\": {\"outlinewidth\": 0, \"tickcolor\": \"rgb(36,36,36)\", \"ticklen\": 8, \"ticks\": \"outside\", \"tickwidth\": 2}, \"colorscale\": [[0.0, \"rgb(2,4,25)\"], [0.06274509803921569, \"rgb(24,15,41)\"], [0.12549019607843137, \"rgb(47,23,57)\"], [0.18823529411764706, \"rgb(71,28,72)\"], [0.25098039215686274, \"rgb(97,30,82)\"], [0.3137254901960784, \"rgb(123,30,89)\"], [0.3764705882352941, \"rgb(150,27,91)\"], [0.4392156862745098, \"rgb(177,22,88)\"], [0.5019607843137255, \"rgb(203,26,79)\"], [0.5647058823529412, \"rgb(223,47,67)\"], [0.6274509803921569, \"rgb(236,76,61)\"], [0.6901960784313725, \"rgb(242,107,73)\"], [0.7529411764705882, \"rgb(244,135,95)\"], [0.8156862745098039, \"rgb(245,162,122)\"], [0.8784313725490196, \"rgb(246,188,153)\"], [0.9411764705882353, \"rgb(247,212,187)\"], [1.0, \"rgb(250,234,220)\"]], \"type\": \"histogram2dcontour\"}], \"mesh3d\": [{\"colorbar\": {\"outlinewidth\": 0, \"tickcolor\": \"rgb(36,36,36)\", \"ticklen\": 8, \"ticks\": \"outside\", \"tickwidth\": 2}, \"type\": \"mesh3d\"}], \"parcoords\": [{\"line\": {\"colorbar\": {\"outlinewidth\": 0, \"tickcolor\": \"rgb(36,36,36)\", \"ticklen\": 8, \"ticks\": \"outside\", \"tickwidth\": 2}}, \"type\": \"parcoords\"}], \"pie\": [{\"automargin\": true, \"type\": \"pie\"}], \"scatter\": [{\"marker\": {\"colorbar\": {\"outlinewidth\": 0, \"tickcolor\": \"rgb(36,36,36)\", \"ticklen\": 8, \"ticks\": \"outside\", \"tickwidth\": 2}}, \"type\": \"scatter\"}], \"scatter3d\": [{\"line\": {\"colorbar\": {\"outlinewidth\": 0, \"tickcolor\": \"rgb(36,36,36)\", \"ticklen\": 8, \"ticks\": \"outside\", \"tickwidth\": 2}}, \"marker\": {\"colorbar\": {\"outlinewidth\": 0, \"tickcolor\": \"rgb(36,36,36)\", \"ticklen\": 8, \"ticks\": \"outside\", \"tickwidth\": 2}}, \"type\": \"scatter3d\"}], \"scattercarpet\": [{\"marker\": {\"colorbar\": {\"outlinewidth\": 0, \"tickcolor\": \"rgb(36,36,36)\", \"ticklen\": 8, \"ticks\": \"outside\", \"tickwidth\": 2}}, \"type\": \"scattercarpet\"}], \"scattergeo\": [{\"marker\": {\"colorbar\": {\"outlinewidth\": 0, \"tickcolor\": \"rgb(36,36,36)\", \"ticklen\": 8, \"ticks\": \"outside\", \"tickwidth\": 2}}, \"type\": \"scattergeo\"}], \"scattergl\": [{\"marker\": {\"colorbar\": {\"outlinewidth\": 0, \"tickcolor\": \"rgb(36,36,36)\", \"ticklen\": 8, \"ticks\": \"outside\", \"tickwidth\": 2}}, \"type\": \"scattergl\"}], \"scattermapbox\": [{\"marker\": {\"colorbar\": {\"outlinewidth\": 0, \"tickcolor\": \"rgb(36,36,36)\", \"ticklen\": 8, \"ticks\": \"outside\", \"tickwidth\": 2}}, \"type\": \"scattermapbox\"}], \"scatterpolar\": [{\"marker\": {\"colorbar\": {\"outlinewidth\": 0, \"tickcolor\": \"rgb(36,36,36)\", \"ticklen\": 8, \"ticks\": \"outside\", \"tickwidth\": 2}}, \"type\": \"scatterpolar\"}], \"scatterpolargl\": [{\"marker\": {\"colorbar\": {\"outlinewidth\": 0, \"tickcolor\": \"rgb(36,36,36)\", \"ticklen\": 8, \"ticks\": \"outside\", \"tickwidth\": 2}}, \"type\": \"scatterpolargl\"}], \"scatterternary\": [{\"marker\": {\"colorbar\": {\"outlinewidth\": 0, \"tickcolor\": \"rgb(36,36,36)\", \"ticklen\": 8, \"ticks\": \"outside\", \"tickwidth\": 2}}, \"type\": \"scatterternary\"}], \"surface\": [{\"colorbar\": {\"outlinewidth\": 0, \"tickcolor\": \"rgb(36,36,36)\", \"ticklen\": 8, \"ticks\": \"outside\", \"tickwidth\": 2}, \"colorscale\": [[0.0, \"rgb(2,4,25)\"], [0.06274509803921569, \"rgb(24,15,41)\"], [0.12549019607843137, \"rgb(47,23,57)\"], [0.18823529411764706, \"rgb(71,28,72)\"], [0.25098039215686274, \"rgb(97,30,82)\"], [0.3137254901960784, \"rgb(123,30,89)\"], [0.3764705882352941, \"rgb(150,27,91)\"], [0.4392156862745098, \"rgb(177,22,88)\"], [0.5019607843137255, \"rgb(203,26,79)\"], [0.5647058823529412, \"rgb(223,47,67)\"], [0.6274509803921569, \"rgb(236,76,61)\"], [0.6901960784313725, \"rgb(242,107,73)\"], [0.7529411764705882, \"rgb(244,135,95)\"], [0.8156862745098039, \"rgb(245,162,122)\"], [0.8784313725490196, \"rgb(246,188,153)\"], [0.9411764705882353, \"rgb(247,212,187)\"], [1.0, \"rgb(250,234,220)\"]], \"type\": \"surface\"}], \"table\": [{\"cells\": {\"fill\": {\"color\": \"rgb(231,231,240)\"}, \"line\": {\"color\": \"white\"}}, \"header\": {\"fill\": {\"color\": \"rgb(183,183,191)\"}, \"line\": {\"color\": \"white\"}}, \"type\": \"table\"}]}, \"layout\": {\"annotationdefaults\": {\"arrowcolor\": \"rgb(67,103,167)\"}, \"coloraxis\": {\"colorbar\": {\"outlinewidth\": 0, \"tickcolor\": \"rgb(36,36,36)\", \"ticklen\": 8, \"ticks\": \"outside\", \"tickwidth\": 2}}, \"colorscale\": {\"sequential\": [[0.0, \"rgb(2,4,25)\"], [0.06274509803921569, \"rgb(24,15,41)\"], [0.12549019607843137, \"rgb(47,23,57)\"], [0.18823529411764706, \"rgb(71,28,72)\"], [0.25098039215686274, \"rgb(97,30,82)\"], [0.3137254901960784, \"rgb(123,30,89)\"], [0.3764705882352941, \"rgb(150,27,91)\"], [0.4392156862745098, \"rgb(177,22,88)\"], [0.5019607843137255, \"rgb(203,26,79)\"], [0.5647058823529412, \"rgb(223,47,67)\"], [0.6274509803921569, \"rgb(236,76,61)\"], [0.6901960784313725, \"rgb(242,107,73)\"], [0.7529411764705882, \"rgb(244,135,95)\"], [0.8156862745098039, \"rgb(245,162,122)\"], [0.8784313725490196, \"rgb(246,188,153)\"], [0.9411764705882353, \"rgb(247,212,187)\"], [1.0, \"rgb(250,234,220)\"]], \"sequentialminus\": [[0.0, \"rgb(2,4,25)\"], [0.06274509803921569, \"rgb(24,15,41)\"], [0.12549019607843137, \"rgb(47,23,57)\"], [0.18823529411764706, \"rgb(71,28,72)\"], [0.25098039215686274, \"rgb(97,30,82)\"], [0.3137254901960784, \"rgb(123,30,89)\"], [0.3764705882352941, \"rgb(150,27,91)\"], [0.4392156862745098, \"rgb(177,22,88)\"], [0.5019607843137255, \"rgb(203,26,79)\"], [0.5647058823529412, \"rgb(223,47,67)\"], [0.6274509803921569, \"rgb(236,76,61)\"], [0.6901960784313725, \"rgb(242,107,73)\"], [0.7529411764705882, \"rgb(244,135,95)\"], [0.8156862745098039, \"rgb(245,162,122)\"], [0.8784313725490196, \"rgb(246,188,153)\"], [0.9411764705882353, \"rgb(247,212,187)\"], [1.0, \"rgb(250,234,220)\"]]}, \"colorway\": [\"rgb(76,114,176)\", \"rgb(221,132,82)\", \"rgb(85,168,104)\", \"rgb(196,78,82)\", \"rgb(129,114,179)\", \"rgb(147,120,96)\", \"rgb(218,139,195)\", \"rgb(140,140,140)\", \"rgb(204,185,116)\", \"rgb(100,181,205)\"], \"font\": {\"color\": \"rgb(36,36,36)\"}, \"geo\": {\"bgcolor\": \"white\", \"lakecolor\": \"white\", \"landcolor\": \"rgb(234,234,242)\", \"showlakes\": true, \"showland\": true, \"subunitcolor\": \"white\"}, \"hoverlabel\": {\"align\": \"left\"}, \"hovermode\": \"closest\", \"paper_bgcolor\": \"white\", \"plot_bgcolor\": \"rgb(234,234,242)\", \"polar\": {\"angularaxis\": {\"gridcolor\": \"white\", \"linecolor\": \"white\", \"showgrid\": true, \"ticks\": \"\"}, \"bgcolor\": \"rgb(234,234,242)\", \"radialaxis\": {\"gridcolor\": \"white\", \"linecolor\": \"white\", \"showgrid\": true, \"ticks\": \"\"}}, \"scene\": {\"xaxis\": {\"backgroundcolor\": \"rgb(234,234,242)\", \"gridcolor\": \"white\", \"gridwidth\": 2, \"linecolor\": \"white\", \"showbackground\": true, \"showgrid\": true, \"ticks\": \"\", \"zerolinecolor\": \"white\"}, \"yaxis\": {\"backgroundcolor\": \"rgb(234,234,242)\", \"gridcolor\": \"white\", \"gridwidth\": 2, \"linecolor\": \"white\", \"showbackground\": true, \"showgrid\": true, \"ticks\": \"\", \"zerolinecolor\": \"white\"}, \"zaxis\": {\"backgroundcolor\": \"rgb(234,234,242)\", \"gridcolor\": \"white\", \"gridwidth\": 2, \"linecolor\": \"white\", \"showbackground\": true, \"showgrid\": true, \"ticks\": \"\", \"zerolinecolor\": \"white\"}}, \"shapedefaults\": {\"fillcolor\": \"rgb(67,103,167)\", \"line\": {\"width\": 0}, \"opacity\": 0.5}, \"ternary\": {\"aaxis\": {\"gridcolor\": \"white\", \"linecolor\": \"white\", \"showgrid\": true, \"ticks\": \"\"}, \"baxis\": {\"gridcolor\": \"white\", \"linecolor\": \"white\", \"showgrid\": true, \"ticks\": \"\"}, \"bgcolor\": \"rgb(234,234,242)\", \"caxis\": {\"gridcolor\": \"white\", \"linecolor\": \"white\", \"showgrid\": true, \"ticks\": \"\"}}, \"xaxis\": {\"automargin\": true, \"gridcolor\": \"white\", \"linecolor\": \"white\", \"showgrid\": true, \"ticks\": \"\", \"title\": {\"standoff\": 15}, \"zerolinecolor\": \"white\"}, \"yaxis\": {\"automargin\": true, \"gridcolor\": \"white\", \"linecolor\": \"white\", \"showgrid\": true, \"ticks\": \"\", \"title\": {\"standoff\": 15}, \"zerolinecolor\": \"white\"}}}, \"title\": {\"text\": \"GIC 330: DEI: Bottom-50 n-grams by importance\"}, \"xaxis\": {\"tickangle\": 45, \"title\": {\"text\": \"\"}}, \"yaxis\": {\"title\": {\"text\": \"Coefficient\"}}},\n",
              "                        {\"responsive\": true}\n",
              "                    ).then(function(){\n",
              "                            \n",
              "var gd = document.getElementById('321388da-d2e7-4825-960f-a6c79de33aae');\n",
              "var x = new MutationObserver(function (mutations, observer) {{\n",
              "        var display = window.getComputedStyle(gd).display;\n",
              "        if (!display || display === 'none') {{\n",
              "            console.log([gd, 'removed!']);\n",
              "            Plotly.purge(gd);\n",
              "            observer.disconnect();\n",
              "        }}\n",
              "}});\n",
              "\n",
              "// Listen for the removal of the full notebook cells\n",
              "var notebookContainer = gd.closest('#notebook-container');\n",
              "if (notebookContainer) {{\n",
              "    x.observe(notebookContainer, {childList: true});\n",
              "}}\n",
              "\n",
              "// Listen for the clearing of the current output cell\n",
              "var outputEl = gd.closest('.output');\n",
              "if (outputEl) {{\n",
              "    x.observe(outputEl, {childList: true});\n",
              "}}\n",
              "\n",
              "                        })\n",
              "                };\n",
              "                \n",
              "            </script>\n",
              "        </div>\n",
              "</body>\n",
              "</html>"
            ]
          },
          "metadata": {
            "tags": []
          }
        }
      ]
    },
    {
      "cell_type": "markdown",
      "metadata": {
        "id": "cFVPHTe32jiV"
      },
      "source": [
        "## Step 3: Cluster analysis to identify themes\n",
        "The purpose of this section is to:\n",
        "* Start the process by looking at only the sentences from paragraphs that are marked as relevant for GIC 310\n",
        "* Run K-means clustering over the sentences to group them into similar topics by their tf-idf vectors\n",
        "* For each cluster, review the sentences and identify the themes\n",
        "* For each themes, come up with key words that we could use to come up with revised set of targets\n",
        "\n",
        "The proposed rules are documented in this [Google Sheet](https://docs.google.com/spreadsheets/d/12zUx0bFlI4Q9HKks3VTFlXulA9rVOjqsbTCok3Mvs_Q/edit#gid=283194973&range=A1)."
      ]
    },
    {
      "cell_type": "code",
      "metadata": {
        "colab": {
          "background_save": true
        },
        "id": "fKpvIvxl7gWc"
      },
      "source": [
        "# ref: https://www.kaggle.com/jbencina/clustering-documents-with-tfidf-and-kmeans\n",
        "# attempt clustering on 330 excerpts\n",
        "\n",
        "X = df_330[df_330['relevant'] == 1]['excerpt_lemma']\n",
        "X = count_vec.transform(X)\n",
        "\n",
        "# where is the clustering part?"
      ],
      "execution_count": null,
      "outputs": []
    },
    {
      "cell_type": "code",
      "metadata": {
        "id": "-V-v3NeV7gWd"
      },
      "source": [
        "from sklearn.cluster import MiniBatchKMeans\n",
        "from sklearn.metrics import silhouette_score\n",
        "import numpy as np\n",
        "\n",
        "# run clustering for different k's to identify the optimal number of clusters\n",
        "k = 40\n",
        "sses = []\n",
        "print('clustering k = ', end='')\n",
        "for i in range(2,k+1):\n",
        "  print(i, end=', ')\n",
        "  fit_obj = MiniBatchKMeans(n_clusters=i, random_state=20)\n",
        "  fit_obj.fit(X)\n",
        "  \n",
        "  sse = fit_obj.inertia_\n",
        "  # sse = silhouette_score(X, fit_obj.labels_, metric='euclidean') # for silhouette score instead\n",
        "  sses.append(sse)\n",
        "\n",
        "y_val = sses\n",
        "x_val = np.arange(2,k+1)\n",
        "\n",
        "# graph results\n",
        "import plotly.graph_objects as go\n",
        "\n",
        "fig = go.Figure()\n",
        "trace = go.Scatter(x=x_val, y=y_val, mode='lines+markers')\n",
        "fig.add_trace(trace)\n",
        "fig.update_layout(\n",
        "    title='Sum of squared errors (SSE) by cluster size',\n",
        "    template = 'seaborn'\n",
        ")\n",
        "fig.update_xaxes(title_text='Number of clusters')\n",
        "fig.update_yaxes(title_text='SSE')\n",
        "\n",
        "fig.show()"
      ],
      "execution_count": null,
      "outputs": []
    },
    {
      "cell_type": "code",
      "metadata": {
        "colab": {
          "background_save": true
        },
        "id": "ukdNFZLl7gWd",
        "outputId": "9c2e9699-87f7-4c61-8f9d-af8a7612801b"
      },
      "source": [
        "from sklearn.cluster import MiniBatchKMeans\n",
        "import numpy as np\n",
        "\n",
        "# generate clusters based on the selected number of clusters\n",
        "\n",
        "n_clusters = 28 # change this \n",
        "clusters = MiniBatchKMeans(n_clusters=n_clusters, random_state=20).fit_predict(X)\n",
        "\n",
        "df_330_rel = df_330[df_330['relevant'] == 1]\n",
        "df_330_rel['cluster'] = clusters\n",
        "# df_330_rel['cluster'].value_counts()"
      ],
      "execution_count": null,
      "outputs": [
        {
          "output_type": "stream",
          "text": [
            "/usr/local/lib/python3.7/dist-packages/ipykernel_launcher.py:10: SettingWithCopyWarning:\n",
            "\n",
            "\n",
            "A value is trying to be set on a copy of a slice from a DataFrame.\n",
            "Try using .loc[row_indexer,col_indexer] = value instead\n",
            "\n",
            "See the caveats in the documentation: https://pandas.pydata.org/pandas-docs/stable/user_guide/indexing.html#returning-a-view-versus-a-copy\n",
            "\n"
          ],
          "name": "stderr"
        }
      ]
    },
    {
      "cell_type": "code",
      "metadata": {
        "colab": {
          "background_save": true
        },
        "id": "nLIYAmq57gWd",
        "outputId": "ce90edbc-6efb-4df2-dd41-d48f86b842aa"
      },
      "source": [
        "from collections import Counter\n",
        "\n",
        "# review the n-grams with the highest tf-idf scores from each cluster\n",
        "\n",
        "df_tfidf = pd.DataFrame()\n",
        "\n",
        "for i in range(n_clusters):\n",
        "  df_cluster = df_330_rel[df_330_rel['cluster'] == i]['excerpt_lemma']\n",
        "  excerpts = np.asarray(count_vec.transform(df_cluster).sum(axis=0))[0]/df_cluster.shape[0]\n",
        "  df_tmp = pd.DataFrame(zip(vocabs, excerpts), \n",
        "                          columns=['n-gram', 'norm_tfidf_score'])\n",
        "  df_tmp['cluster'] = i\n",
        "  df_tmp = df_tmp.sort_values(by='norm_tfidf_score', ascending=False)\n",
        "  df_tfidf = pd.concat([df_tfidf, df_tmp.head(50)])\n",
        "\n",
        "df_tfidf.to_csv('/content/drive/MyDrive/DFG Cost of Human Rights Violations/Datasets/10k_clean_text/_0.7 visualized/labeled_data/df_tfidf.csv', index=False)\n",
        "df_tfidf.groupby('cluster').agg({'n-gram': ', '.join})"
      ],
      "execution_count": null,
      "outputs": [
        {
          "output_type": "execute_result",
          "data": {
            "text/html": [
              "<div>\n",
              "<style scoped>\n",
              "    .dataframe tbody tr th:only-of-type {\n",
              "        vertical-align: middle;\n",
              "    }\n",
              "\n",
              "    .dataframe tbody tr th {\n",
              "        vertical-align: top;\n",
              "    }\n",
              "\n",
              "    .dataframe thead th {\n",
              "        text-align: right;\n",
              "    }\n",
              "</style>\n",
              "<table border=\"1\" class=\"dataframe\">\n",
              "  <thead>\n",
              "    <tr style=\"text-align: right;\">\n",
              "      <th></th>\n",
              "      <th>n-gram</th>\n",
              "    </tr>\n",
              "    <tr>\n",
              "      <th>cluster</th>\n",
              "      <th></th>\n",
              "    </tr>\n",
              "  </thead>\n",
              "  <tbody>\n",
              "    <tr>\n",
              "      <th>0</th>\n",
              "      <td>success depend, success, depend, ability, future success, depend ability, retain, future success depend, success depend ability, attract, personnel, future, ability attract, motivate, attract retain, technical, qualified, continue, retain motivate, highly, depend ability attract, ability attract retain, highly qualified, motivate highly, retain motivate highly, continue ability, attract retain motivate, skilled, management, depend continue, success depend continue, managerial, marketing, key, ability continue, retain highly, believe future, believe future success, qualified technical, ability continue attract, qualified personnel, employee, highly skilled, continue attract, sale, continue ability attract, highly qualified technical, retain highly qualified, continue attract retain, continue service</td>\n",
              "    </tr>\n",
              "    <tr>\n",
              "      <th>1</th>\n",
              "      <td>depend ability expand, strategy depend ability, growth strategy depend, strategy depend, ability expand, growth strategy, ability expand retain, retain organization, expand retain, expand retain organization, organization, expand, depend ability, strategy, growth, depend, world class talent, class talent, world class, ability, world, expand organization, talent, high quality personnel, quality personnel, class, retain, high quality, personnel, highly skilled personnel, skilled personnel, quality, highly skilled, high, hire, skilled, highly, permit approval require, period specify, period straight, period period, period present, permit development, period result, period rapid, permit conduct, permit approval, period rapid growth, permit authorization, period require</td>\n",
              "    </tr>\n",
              "    <tr>\n",
              "      <th>2</th>\n",
              "      <td>employee, time employee, time, locate, employee locate, employ, total, total employee, employee worldwide, worldwide, employee employee, employee time, employ time, time time, employee base, employ time employee, employee time employee, employee include, time employee time, temporary, time time employee, base, employ employee, outside, temporary employee, locate outside, total time, employee locate outside, employee respectively, locate locate, include, total time employee, respectively, employee locate locate, employment, employ time time, employee temporary, employment time, time employee include, include employee, employee temporary employee, grow employee employee, regular, grow employee, employee compare, compare, number, compare employee, time employee increase, employee increase</td>\n",
              "    </tr>\n",
              "    <tr>\n",
              "      <th>3</th>\n",
              "      <td>manage multiple brand, brand technology platform, multiple brand technology, multiple brand, platform acquire business, brand technology, technology platform acquire, acquire business increase, continue manage multiple, platform acquire, manage multiple, continue manage, business increase cost, technology platform, increase cost operation, cost operation, business increase, multiple, platform, acquire business, brand, increase cost, acquire, manage, technology, continue, case, increase, cost, operation, business, periodically, permanent employee, performance period, performance price, performance price common, performance product, permanent, periodically review, periodically experience, periodically evaluate, performance substantially, periodic report file, periodic pension, periodic inspection regulatory, periodic inspection, periodic delay preclude, periodic delay change, periodic delay, performance project</td>\n",
              "    </tr>\n",
              "    <tr>\n",
              "      <th>4</th>\n",
              "      <td>competition, intense, personnel, qualified, competition qualified, qualified personnel, industry, competition personnel, personnel intense, competition qualified personnel, particularly, employee intense, intense competition, retain, industry intense, competition employee, competition personnel intense, employee, personnel industry, intense particularly, technical, attract, competition employee intense, engineer, semiconductor, attract retain, successful, retain qualified, semiconductor industry, skilled, competition talent, competition skilled, high, intense competition qualified, individual, experienced, talent, attract retain qualified, successful attract, hire, intense successful, able, qualified personnel industry, successful attract retain, skill, personnel particularly, skill intense, competition experienced, qualified employee, sale</td>\n",
              "    </tr>\n",
              "    <tr>\n",
              "      <th>5</th>\n",
              "      <td>employee represent collective, represent collective, represent collective bargaining, collective bargaining unit, employee represent, bargaining unit, collective bargaining, bargaining, collective, represent, unit, employee, believe relation employee, believe relation, collective bargaining agreement, bargaining agreement, favorable, relation employee, agreement, relation, believe, case future, work, experience work, case, assurance, experience work stoppage, work stoppage, stoppage, experience, future, council employee, certain country employee, country employee represent, employee representative, country employee, certain country, employee good, work council, council, representative, good, pilot represent, agreement effective, country, small number employee, exception, relation employee good, employee relation satisfactory, consider relationship employee</td>\n",
              "    </tr>\n",
              "    <tr>\n",
              "      <th>6</th>\n",
              "      <td>physician, hospital, facility, patient, healthcare, practice, community, employ, care, quality, recruit, contract, medical, professional, quality physician, service, provide, admit, physician practice, staff, advisory contract, number, consulting advisory contract, employ physician, consulting advisory, advisor employ, consultant advisor employ, medical staff, limit availability, compete, commitment consulting advisory, commitment consulting, advisory contract entity, entity limit, contract entity, contract entity limit, entity limit availability, entity, consultant advisor, advisor employ employer, employ employer, advisory, advisor, commitment, retain, recruit retain, believe, consulting, provider, healthcare professional</td>\n",
              "    </tr>\n",
              "    <tr>\n",
              "      <th>7</th>\n",
              "      <td>officer, executive, executive officer, chief, chief executive, chief executive officer, officer key, executive officer key, key, officer key employee, president, key employee, employee, president chief, employment, service executive, service executive officer, service, officer chief, chief financial, personnel, chief financial officer, financial officer, president chief executive, depend, dependent, employment agreement, officer key personnel, agreement, business, continue service, executive officer chief, management, success, senior, key personnel, financial, chairman, continue, performance, loss service, include, loss, success depend, include chief, loss service executive, vice president, vice, agreement executive, harm</td>\n",
              "    </tr>\n",
              "    <tr>\n",
              "      <th>8</th>\n",
              "      <td>key, personnel, key personnel, loss, business, retain, loss key, key employee, retain key, retain key personnel, harm, employee, attract, loss key personnel, ability, harm business, service, loss service, service key, attract retain, affect, inability, unable, adversely affect, management, adversely, qualified, loss key employee, depend, recruit, loss service key, depend key, inability attract, hire, development, qualified personnel, product, depend key personnel, technical, service key personnel, result, failure, operation, additional, successfully, lose, executive key, attract retain key, inability attract retain, able</td>\n",
              "    </tr>\n",
              "    <tr>\n",
              "      <th>9</th>\n",
              "      <td>retain, attract, attract retain, qualified, personnel, retain qualified, qualified personnel, ability, attract retain qualified, business, ability attract, employee, retain qualified personnel, ability attract retain, able, motivate, unable, qualified employee, retain motivate, key, technical, highly, hire, able attract, attract retain motivate, highly qualified, unable attract, retain personnel, successful, adversely, able attract retain, attract retain personnel, affect, future, successful attract, continue, unable attract retain, adversely affect, success, retain qualified employee, key employee, hire retain, necessary, depend, result, retain highly qualified, fail, successful attract retain, harm, successfully</td>\n",
              "    </tr>\n",
              "    <tr>\n",
              "      <th>10</th>\n",
              "      <td>professional ability, include tax, workforce include, supervise, seasonal, hire train, ability hire train, availability, workforce, professional, business dependent, tax, train, ability hire, hire, dependent, ability, include, motivate retain employee, ability attract hire, attract hire train, employee, attract hire, motivate retain, business, retain employee, ability attract, motivate, attract, retain, periodic delay change, periodic pension, performance marketing, periodic inspection regulatory, performance measure, performance metric, periodic inspection, periodic delay preclude, periodic delay, periodic report, periodic benefit, periodic, period vessel, period time limited, period time employee, performance objective, period time, period subject, period straight line, period straight</td>\n",
              "    </tr>\n",
              "    <tr>\n",
              "      <th>11</th>\n",
              "      <td>stock, share, compensation, option, base, employee, incentive, plan, award, base compensation, grant, stock option, equity, share base, employee stock, purchase, value, price, incentive plan, share base compensation, stock base, unit, stock unit, retain, common, common stock, restrict stock, restrict, expense, restrict stock unit, stock base compensation, incentive award, compensation expense, attract retain, attract, stock price, equity incentive, stock purchase, form, option grant, purchase plan, provide, employee stock purchase, company, director, motivate, grant employee, performance, equity base, option restrict</td>\n",
              "    </tr>\n",
              "    <tr>\n",
              "      <th>12</th>\n",
              "      <td>collective bargaining, bargaining, collective, employee represent, collective bargaining agreement, bargaining agreement, represent, employee, represent labor, agreement, union, represent labor union, employee represent labor, labor union, labor, cover collective bargaining, cover collective, cover, subject collective, subject collective bargaining, employee cover, employee cover collective, work stoppage, stoppage, work, subject, experience work stoppage, experience work, employee subject, represent collective bargaining, represent collective, employee subject collective, employee represent collective, work stoppage employee, stoppage employee, party collective, party collective bargaining, experience, employee represent union, represent union, stoppage employee represent, bargaining agreement employee, agreement employee, party, collective bargaining arrangement, bargaining arrangement, bargaining agreement experience, agreement experience, agreement experience work, union experience work</td>\n",
              "    </tr>\n",
              "    <tr>\n",
              "      <th>13</th>\n",
              "      <td>employee, business, personnel, company, hire, increase, result, continue, experience, growth, service, significant, retain, operation, cost, plan, management, addition, ability, number, new, require, time, include, future, need, manage, key, affect, customer, development, maintain, industry, adversely, financial, file, resource, benefit, believe, able, recruit, work, technology, revenue, employment, relationship, acquisition, provide, additional, compensation</td>\n",
              "    </tr>\n",
              "    <tr>\n",
              "      <th>14</th>\n",
              "      <td>life insurance, life, insurance, key person, key, person, maintain key, person life, key person life, person life insurance, insurance policy, maintain key person, life insurance policy, maintain, policy, key man, man, man life, man life insurance, key man life, employee, executive, maintain key man, officer, key person insurance, person insurance, insurance employee, insurance executive, executive officer, life insurance key, insurance key, employment, life insurance employee, employee maintain key, key employee, cover, employee maintain, employment agreement, life insurance executive, agreement, carry key, insurance policy employee, key employee maintain, agreement offer letter, employment agreement offer, agreement offer, offer letter, policy employee, officer employee, key personnel</td>\n",
              "    </tr>\n",
              "    <tr>\n",
              "      <th>15</th>\n",
              "      <td>team, management team, management, senior management team, senior management, senior, member, business, member senior, member senior management, key, team key, management team key, execute, time, executive, disruptive business, management team disruptive, team disruptive, team disruptive business, success, time time change, depend, dependent, time change, experience, disruptive, harm, service, employee, executive management team, member management team, time change senior, strategy, ability, executive management, change senior management, work effectively, change, change senior, addition, addition time time, team key employee, fail work effectively, fail work, addition time, personnel, new, member management, key employee</td>\n",
              "    </tr>\n",
              "    <tr>\n",
              "      <th>16</th>\n",
              "      <td>relation employee, relation employee good, employee good, relation, good, consider relation employee, consider relation, consider, employee, believe relation employee, believe relation, believe, experience work stoppage, experience work, stoppage consider relation, work stoppage consider, stoppage consider, work stoppage, stoppage, work, experience, labor union consider, union consider, employee represent labor, relation employee satisfactory, represent labor, employee satisfactory, employee represent, represent labor union, good experience work, employee good experience, labor union, good experience, believe overall, satisfactory, represent, believe current relation, current relation, current relation employee, union, labor, management consider, believe current, stoppage believe relation, employee consider, excellent, significant resource employee, dedicate significant resource, dedicate significant, work stoppage believe</td>\n",
              "    </tr>\n",
              "    <tr>\n",
              "      <th>17</th>\n",
              "      <td>senior management, senior, management, management key, senior management key, key, management key employee, personnel, service, member senior management, member senior, key employee, business, employee, member, depend, success, service senior management, service senior, management key personnel, retain, key personnel, dependent, loss, continue service, performance, retain service, able, able retain service, future, able retain, performance senior management, performance senior, continue, technical, substantially dependent, success depend, substantially, harm, ability, future success, attract, loss service, key senior management, key senior, key technical, employment, loss service senior, contribution, technical personnel</td>\n",
              "    </tr>\n",
              "    <tr>\n",
              "      <th>18</th>\n",
              "      <td>employee relation, employee relation good, relation good, relation, good, believe employee relation, believe employee, consider employee relation, consider employee, employee, believe, consider, experience work stoppage, experience work, work stoppage, stoppage, work stoppage believe, stoppage believe, stoppage believe employee, work, experience, management consider employee, management consider, current employee relation, labor union consider, union consider, employee represent, employee represent labor, represent labor, represent, current employee, represent labor union, consider current employee, consider current, labor union, stoppage consider employee, labor, union, stoppage consider, work stoppage consider, management, employee relation satisfactory, relation satisfactory, current, union consider employee, satisfactory, believe offer, competitive compensation benefit, offer competitive compensation, good experience work</td>\n",
              "    </tr>\n",
              "    <tr>\n",
              "      <th>19</th>\n",
              "      <td>commit employee, employment term, agreement generally, commencement, agreement, employee company, commit, generally, employment, term, company, employee, periodic delay, periodically experience, periodically evaluate, periodically, periodic report file, periodic report, performance level, periodic pension, periodic inspection regulatory, periodic inspection, periodic delay preclude, periodic delay change, periodic benefit, permanent, periodic, period vessel, period time limited, period time employee, period time, period subject, period straight line, period straight, period specify, period result, periodically review, performance objective, permanent employee, period rapid growth, performance largely dependent, permit requirement result, permit requirement, permit require operation, permit require, permit license violation, permit license certificate, permit license, permit issue, permit incur</td>\n",
              "    </tr>\n",
              "    <tr>\n",
              "      <th>20</th>\n",
              "      <td>continue ability identify, develop motivate retain, develop motivate, identify hire develop, hire develop motivate, depend continue ability, ability identify hire, hire develop, ability identify, continue ability, success depend continue, identify hire, motivate retain, depend continue, motivate retain highly, future success depend, identify, future success, motivate, retain highly skilled, success, success depend, skilled personnel area, retain highly, personnel area organization, area organization, develop, highly skilled personnel, highly skilled, personnel area, depend, skilled personnel, hire, skilled, continue, highly, ability, future, retain, organization, area, personnel, retain world class, retain world, senior management, especially critical, class talent, world class talent, senior, continued contribution senior</td>\n",
              "    </tr>\n",
              "    <tr>\n",
              "      <th>21</th>\n",
              "      <td>adverse effect, adverse, effect, material adverse, material adverse effect, adverse effect business, effect business, material, business, financial condition, result operation, condition, result, financial, personnel material adverse, personnel material, operation, loss, financial condition result, condition result operation, condition result, key, personnel, business financial, business financial condition, effect business financial, key personnel material, loss service, key personnel, attract, failure, inability, retain, effect business result, service, operation financial condition, operation financial, business result operation, business result, result operation financial, loss key, employee, attract retain, key employee, loss service key, service key, qualified, inability attract, inability attract retain, operating result</td>\n",
              "    </tr>\n",
              "    <tr>\n",
              "      <th>22</th>\n",
              "      <td>sale, marketing, sale marketing, development, research, research development, employee, support, personnel, administration, administrative, general, engineering, sale marketing personnel, development sale, manufacturing, marketing personnel, development sale marketing, sale force, general administrative, research development sale, product, customer, operation, engage, organization, force, marketing sale, marketing general, finance, sale marketing general, technical, marketing general administrative, employ, include, expand, service, customer support, management, time, function, direct, direct sale, retain, capability, employee engage, employee include, engage research, marketing customer, sale representative</td>\n",
              "    </tr>\n",
              "    <tr>\n",
              "      <th>23</th>\n",
              "      <td>operational financial, operational, growth, place, financial, management, continue, manage, place significant, resource, management operational, improve, financial resource, rapid growth, strain, expand, continue place, significant, operational financial resource, operational financial management, financial management, demand management, train, rapid, management operational financial, improve operational, demand, significant strain, continue place significant, demand management operational, experience, infrastructure, operation, expansion, improve operational financial, place significant strain, strain management, place significant demand, growth place, significant demand, train additional qualified, continue improve, experience rapid, train additional, experience rapid growth, control, growth headcount, financial infrastructure, place continue place, place continue</td>\n",
              "    </tr>\n",
              "    <tr>\n",
              "      <th>24</th>\n",
              "      <td>product, market, new, new product, develop, customer, technology, development, service, competitive, product service, ability, exist, develop new, competitor, continue, sale, exist product, introduce, timely, business, result, sell, acceptance, technological, industry, able, future, develop new product, candidate, highly competitive, personnel, change, product candidate, market product, offering, highly, introduction, depend, successfully, product development, introduce new, market acceptance, compete, unable, revenue, company, successful, demand, product develop</td>\n",
              "    </tr>\n",
              "    <tr>\n",
              "      <th>25</th>\n",
              "      <td>highly skilled, skilled, highly, retain highly skilled, skilled personnel, personnel, retain highly, retain, highly skilled personnel, attract retain highly, attract, attract retain, skilled employee, highly skilled employee, depend, ability, success, competition highly skilled, competition highly, competition, intense, hire, employee, motivate, ability attract, success depend, technical, ability attract retain, future, recruit, unable, continue, highly skilled technical, skilled technical, retain motivate, depend ability, future success, recruit retain, business, hire retain, managerial, marketing, highly skilled individual, need, skilled individual, depend large ability, large ability, talent, performance, depend large</td>\n",
              "    </tr>\n",
              "    <tr>\n",
              "      <th>26</th>\n",
              "      <td>option purchase, ordinary share, ordinary, share, option, purchase, outstanding, plan, rsu, share incentive plan, share incentive, share plan, incentive plan, class, plan exercise, incentive, share unit, share share, exercise price, exercise, restricted share unit, restricted share, unit, restricted, price, restrict share, incentive plan amend, plan amend, amend, restrict, periodic delay change, permit governmental, periodic delay, periodic benefit, permit governmental authority, periodic, period require, period vessel, period result, period time limited, period time employee, period time, period subject, permit incur, period straight line, period straight, period specify, period rapid growth, periodic delay preclude, permit development process</td>\n",
              "    </tr>\n",
              "    <tr>\n",
              "      <th>27</th>\n",
              "      <td>despite effort retain, despite effort, short notice, terminate employment short, employment short, employment short notice, effort retain, effort retain valuable, team terminate employment, valuable employee member, employee member management, team terminate, retain valuable, retain valuable employee, valuable employee, despite, member management scientific, terminate employment, employee member, short, management scientific, valuable, notice, member management, terminate, effort, scientific, employment, development team, team, member, retain, management, management scientific medical, employee, scientific medical, development, medical, affair, employee terminate employment, employee terminate, development commercial, employment company, retain employee, regulatory affair, management sale marketing, management sale, commercial, clinical, sale marketing</td>\n",
              "    </tr>\n",
              "  </tbody>\n",
              "</table>\n",
              "</div>"
            ],
            "text/plain": [
              "                                                                                                                                                                                                                                                                                                                                                                                                                                                                                                                                                                                                                                                                                                                                                                                                                                                                                                                                                                                                                                                n-gram\n",
              "cluster                                                                                                                                                                                                                                                                                                                                                                                                                                                                                                                                                                                                                                                                                                                                                                                                                                                                                                                                                                                                                                               \n",
              "0                                                                                                                                                                                                            success depend, success, depend, ability, future success, depend ability, retain, future success depend, success depend ability, attract, personnel, future, ability attract, motivate, attract retain, technical, qualified, continue, retain motivate, highly, depend ability attract, ability attract retain, highly qualified, motivate highly, retain motivate highly, continue ability, attract retain motivate, skilled, management, depend continue, success depend continue, managerial, marketing, key, ability continue, retain highly, believe future, believe future success, qualified technical, ability continue attract, qualified personnel, employee, highly skilled, continue attract, sale, continue ability attract, highly qualified technical, retain highly qualified, continue attract retain, continue service\n",
              "1                                                                                                                                                                                                                                              depend ability expand, strategy depend ability, growth strategy depend, strategy depend, ability expand, growth strategy, ability expand retain, retain organization, expand retain, expand retain organization, organization, expand, depend ability, strategy, growth, depend, world class talent, class talent, world class, ability, world, expand organization, talent, high quality personnel, quality personnel, class, retain, high quality, personnel, highly skilled personnel, skilled personnel, quality, highly skilled, high, hire, skilled, highly, permit approval require, period specify, period straight, period period, period present, permit development, period result, period rapid, permit conduct, permit approval, period rapid growth, permit authorization, period require\n",
              "2                                                                                                                                                                                                                         employee, time employee, time, locate, employee locate, employ, total, total employee, employee worldwide, worldwide, employee employee, employee time, employ time, time time, employee base, employ time employee, employee time employee, employee include, time employee time, temporary, time time employee, base, employ employee, outside, temporary employee, locate outside, total time, employee locate outside, employee respectively, locate locate, include, total time employee, respectively, employee locate locate, employment, employ time time, employee temporary, employment time, time employee include, include employee, employee temporary employee, grow employee employee, regular, grow employee, employee compare, compare, number, compare employee, time employee increase, employee increase\n",
              "3                                                                                           manage multiple brand, brand technology platform, multiple brand technology, multiple brand, platform acquire business, brand technology, technology platform acquire, acquire business increase, continue manage multiple, platform acquire, manage multiple, continue manage, business increase cost, technology platform, increase cost operation, cost operation, business increase, multiple, platform, acquire business, brand, increase cost, acquire, manage, technology, continue, case, increase, cost, operation, business, periodically, permanent employee, performance period, performance price, performance price common, performance product, permanent, periodically review, periodically experience, periodically evaluate, performance substantially, periodic report file, periodic pension, periodic inspection regulatory, periodic inspection, periodic delay preclude, periodic delay change, periodic delay, performance project\n",
              "4                                                                                                                                                                 competition, intense, personnel, qualified, competition qualified, qualified personnel, industry, competition personnel, personnel intense, competition qualified personnel, particularly, employee intense, intense competition, retain, industry intense, competition employee, competition personnel intense, employee, personnel industry, intense particularly, technical, attract, competition employee intense, engineer, semiconductor, attract retain, successful, retain qualified, semiconductor industry, skilled, competition talent, competition skilled, high, intense competition qualified, individual, experienced, talent, attract retain qualified, successful attract, hire, intense successful, able, qualified personnel industry, successful attract retain, skill, personnel particularly, skill intense, competition experienced, qualified employee, sale\n",
              "5                                                                                                                                                 employee represent collective, represent collective, represent collective bargaining, collective bargaining unit, employee represent, bargaining unit, collective bargaining, bargaining, collective, represent, unit, employee, believe relation employee, believe relation, collective bargaining agreement, bargaining agreement, favorable, relation employee, agreement, relation, believe, case future, work, experience work, case, assurance, experience work stoppage, work stoppage, stoppage, experience, future, council employee, certain country employee, country employee represent, employee representative, country employee, certain country, employee good, work council, council, representative, good, pilot represent, agreement effective, country, small number employee, exception, relation employee good, employee relation satisfactory, consider relationship employee\n",
              "6                                                                                                                                                                                                                                                                                        physician, hospital, facility, patient, healthcare, practice, community, employ, care, quality, recruit, contract, medical, professional, quality physician, service, provide, admit, physician practice, staff, advisory contract, number, consulting advisory contract, employ physician, consulting advisory, advisor employ, consultant advisor employ, medical staff, limit availability, compete, commitment consulting advisory, commitment consulting, advisory contract entity, entity limit, contract entity, contract entity limit, entity limit availability, entity, consultant advisor, advisor employ employer, employ employer, advisory, advisor, commitment, retain, recruit retain, believe, consulting, provider, healthcare professional\n",
              "7                                                                                                                                                                                                                                                                                          officer, executive, executive officer, chief, chief executive, chief executive officer, officer key, executive officer key, key, officer key employee, president, key employee, employee, president chief, employment, service executive, service executive officer, service, officer chief, chief financial, personnel, chief financial officer, financial officer, president chief executive, depend, dependent, employment agreement, officer key personnel, agreement, business, continue service, executive officer chief, management, success, senior, key personnel, financial, chairman, continue, performance, loss service, include, loss, success depend, include chief, loss service executive, vice president, vice, agreement executive, harm\n",
              "8                                                                                                                                                                                                                                                                                                                                                                                                 key, personnel, key personnel, loss, business, retain, loss key, key employee, retain key, retain key personnel, harm, employee, attract, loss key personnel, ability, harm business, service, loss service, service key, attract retain, affect, inability, unable, adversely affect, management, adversely, qualified, loss key employee, depend, recruit, loss service key, depend key, inability attract, hire, development, qualified personnel, product, depend key personnel, technical, service key personnel, result, failure, operation, additional, successfully, lose, executive key, attract retain key, inability attract retain, able\n",
              "9                                                                                                                                                                                                                                                                                                  retain, attract, attract retain, qualified, personnel, retain qualified, qualified personnel, ability, attract retain qualified, business, ability attract, employee, retain qualified personnel, ability attract retain, able, motivate, unable, qualified employee, retain motivate, key, technical, highly, hire, able attract, attract retain motivate, highly qualified, unable attract, retain personnel, successful, adversely, able attract retain, attract retain personnel, affect, future, successful attract, continue, unable attract retain, adversely affect, success, retain qualified employee, key employee, hire retain, necessary, depend, result, retain highly qualified, fail, successful attract retain, harm, successfully\n",
              "10                                                                                                                                                                                                                      professional ability, include tax, workforce include, supervise, seasonal, hire train, ability hire train, availability, workforce, professional, business dependent, tax, train, ability hire, hire, dependent, ability, include, motivate retain employee, ability attract hire, attract hire train, employee, attract hire, motivate retain, business, retain employee, ability attract, motivate, attract, retain, periodic delay change, periodic pension, performance marketing, periodic inspection regulatory, performance measure, performance metric, periodic inspection, periodic delay preclude, periodic delay, periodic report, periodic benefit, periodic, period vessel, period time limited, period time employee, performance objective, period time, period subject, period straight line, period straight\n",
              "11                                                                                                                                                                                                                                                                                                                                                                                                    stock, share, compensation, option, base, employee, incentive, plan, award, base compensation, grant, stock option, equity, share base, employee stock, purchase, value, price, incentive plan, share base compensation, stock base, unit, stock unit, retain, common, common stock, restrict stock, restrict, expense, restrict stock unit, stock base compensation, incentive award, compensation expense, attract retain, attract, stock price, equity incentive, stock purchase, form, option grant, purchase plan, provide, employee stock purchase, company, director, motivate, grant employee, performance, equity base, option restrict\n",
              "12       collective bargaining, bargaining, collective, employee represent, collective bargaining agreement, bargaining agreement, represent, employee, represent labor, agreement, union, represent labor union, employee represent labor, labor union, labor, cover collective bargaining, cover collective, cover, subject collective, subject collective bargaining, employee cover, employee cover collective, work stoppage, stoppage, work, subject, experience work stoppage, experience work, employee subject, represent collective bargaining, represent collective, employee subject collective, employee represent collective, work stoppage employee, stoppage employee, party collective, party collective bargaining, experience, employee represent union, represent union, stoppage employee represent, bargaining agreement employee, agreement employee, party, collective bargaining arrangement, bargaining arrangement, bargaining agreement experience, agreement experience, agreement experience work, union experience work\n",
              "13                                                                                                                                                                                                                                                                                                                                                                                                                                                                                                                                                                     employee, business, personnel, company, hire, increase, result, continue, experience, growth, service, significant, retain, operation, cost, plan, management, addition, ability, number, new, require, time, include, future, need, manage, key, affect, customer, development, maintain, industry, adversely, financial, file, resource, benefit, believe, able, recruit, work, technology, revenue, employment, relationship, acquisition, provide, additional, compensation\n",
              "14                                                                                                                                                                                                                       life insurance, life, insurance, key person, key, person, maintain key, person life, key person life, person life insurance, insurance policy, maintain key person, life insurance policy, maintain, policy, key man, man, man life, man life insurance, key man life, employee, executive, maintain key man, officer, key person insurance, person insurance, insurance employee, insurance executive, executive officer, life insurance key, insurance key, employment, life insurance employee, employee maintain key, key employee, cover, employee maintain, employment agreement, life insurance executive, agreement, carry key, insurance policy employee, key employee maintain, agreement offer letter, employment agreement offer, agreement offer, offer letter, policy employee, officer employee, key personnel\n",
              "15                                                                                                                                                                                                                                                                                         team, management team, management, senior management team, senior management, senior, member, business, member senior, member senior management, key, team key, management team key, execute, time, executive, disruptive business, management team disruptive, team disruptive, team disruptive business, success, time time change, depend, dependent, time change, experience, disruptive, harm, service, employee, executive management team, member management team, time change senior, strategy, ability, executive management, change senior management, work effectively, change, change senior, addition, addition time time, team key employee, fail work effectively, fail work, addition time, personnel, new, member management, key employee\n",
              "16                                                                            relation employee, relation employee good, employee good, relation, good, consider relation employee, consider relation, consider, employee, believe relation employee, believe relation, believe, experience work stoppage, experience work, stoppage consider relation, work stoppage consider, stoppage consider, work stoppage, stoppage, work, experience, labor union consider, union consider, employee represent labor, relation employee satisfactory, represent labor, employee satisfactory, employee represent, represent labor union, good experience work, employee good experience, labor union, good experience, believe overall, satisfactory, represent, believe current relation, current relation, current relation employee, union, labor, management consider, believe current, stoppage believe relation, employee consider, excellent, significant resource employee, dedicate significant resource, dedicate significant, work stoppage believe\n",
              "17                                                                                                                                                                                                                                                                                          senior management, senior, management, management key, senior management key, key, management key employee, personnel, service, member senior management, member senior, key employee, business, employee, member, depend, success, service senior management, service senior, management key personnel, retain, key personnel, dependent, loss, continue service, performance, retain service, able, able retain service, future, able retain, performance senior management, performance senior, continue, technical, substantially dependent, success depend, substantially, harm, ability, future success, attract, loss service, key senior management, key senior, key technical, employment, loss service senior, contribution, technical personnel\n",
              "18                                                                         employee relation, employee relation good, relation good, relation, good, believe employee relation, believe employee, consider employee relation, consider employee, employee, believe, consider, experience work stoppage, experience work, work stoppage, stoppage, work stoppage believe, stoppage believe, stoppage believe employee, work, experience, management consider employee, management consider, current employee relation, labor union consider, union consider, employee represent, employee represent labor, represent labor, represent, current employee, represent labor union, consider current employee, consider current, labor union, stoppage consider employee, labor, union, stoppage consider, work stoppage consider, management, employee relation satisfactory, relation satisfactory, current, union consider employee, satisfactory, believe offer, competitive compensation benefit, offer competitive compensation, good experience work\n",
              "19                                                                                                          commit employee, employment term, agreement generally, commencement, agreement, employee company, commit, generally, employment, term, company, employee, periodic delay, periodically experience, periodically evaluate, periodically, periodic report file, periodic report, performance level, periodic pension, periodic inspection regulatory, periodic inspection, periodic delay preclude, periodic delay change, periodic benefit, permanent, periodic, period vessel, period time limited, period time employee, period time, period subject, period straight line, period straight, period specify, period result, periodically review, performance objective, permanent employee, period rapid growth, performance largely dependent, permit requirement result, permit requirement, permit require operation, permit require, permit license violation, permit license certificate, permit license, permit issue, permit incur\n",
              "20                                                                                                                                                                                  continue ability identify, develop motivate retain, develop motivate, identify hire develop, hire develop motivate, depend continue ability, ability identify hire, hire develop, ability identify, continue ability, success depend continue, identify hire, motivate retain, depend continue, motivate retain highly, future success depend, identify, future success, motivate, retain highly skilled, success, success depend, skilled personnel area, retain highly, personnel area organization, area organization, develop, highly skilled personnel, highly skilled, personnel area, depend, skilled personnel, hire, skilled, continue, highly, ability, future, retain, organization, area, personnel, retain world class, retain world, senior management, especially critical, class talent, world class talent, senior, continued contribution senior\n",
              "21                                                                                                                                                                             adverse effect, adverse, effect, material adverse, material adverse effect, adverse effect business, effect business, material, business, financial condition, result operation, condition, result, financial, personnel material adverse, personnel material, operation, loss, financial condition result, condition result operation, condition result, key, personnel, business financial, business financial condition, effect business financial, key personnel material, loss service, key personnel, attract, failure, inability, retain, effect business result, service, operation financial condition, operation financial, business result operation, business result, result operation financial, loss key, employee, attract retain, key employee, loss service key, service key, qualified, inability attract, inability attract retain, operating result\n",
              "22                                                                                                                                                                                                                                                                                                       sale, marketing, sale marketing, development, research, research development, employee, support, personnel, administration, administrative, general, engineering, sale marketing personnel, development sale, manufacturing, marketing personnel, development sale marketing, sale force, general administrative, research development sale, product, customer, operation, engage, organization, force, marketing sale, marketing general, finance, sale marketing general, technical, marketing general administrative, employ, include, expand, service, customer support, management, time, function, direct, direct sale, retain, capability, employee engage, employee include, engage research, marketing customer, sale representative\n",
              "23                                                                                                                                      operational financial, operational, growth, place, financial, management, continue, manage, place significant, resource, management operational, improve, financial resource, rapid growth, strain, expand, continue place, significant, operational financial resource, operational financial management, financial management, demand management, train, rapid, management operational financial, improve operational, demand, significant strain, continue place significant, demand management operational, experience, infrastructure, operation, expansion, improve operational financial, place significant strain, strain management, place significant demand, growth place, significant demand, train additional qualified, continue improve, experience rapid, train additional, experience rapid growth, control, growth headcount, financial infrastructure, place continue place, place continue\n",
              "24                                                                                                                                                                                                                                                                                                                                                                                                                                                           product, market, new, new product, develop, customer, technology, development, service, competitive, product service, ability, exist, develop new, competitor, continue, sale, exist product, introduce, timely, business, result, sell, acceptance, technological, industry, able, future, develop new product, candidate, highly competitive, personnel, change, product candidate, market product, offering, highly, introduction, depend, successfully, product development, introduce new, market acceptance, compete, unable, revenue, company, successful, demand, product develop\n",
              "25                                                                                                                                                                                                                                                                                          highly skilled, skilled, highly, retain highly skilled, skilled personnel, personnel, retain highly, retain, highly skilled personnel, attract retain highly, attract, attract retain, skilled employee, highly skilled employee, depend, ability, success, competition highly skilled, competition highly, competition, intense, hire, employee, motivate, ability attract, success depend, technical, ability attract retain, future, recruit, unable, continue, highly skilled technical, skilled technical, retain motivate, depend ability, future success, recruit retain, business, hire retain, managerial, marketing, highly skilled individual, need, skilled individual, depend large ability, large ability, talent, performance, depend large\n",
              "26                                                                                                                                                                                                                                                                  option purchase, ordinary share, ordinary, share, option, purchase, outstanding, plan, rsu, share incentive plan, share incentive, share plan, incentive plan, class, plan exercise, incentive, share unit, share share, exercise price, exercise, restricted share unit, restricted share, unit, restricted, price, restrict share, incentive plan amend, plan amend, amend, restrict, periodic delay change, permit governmental, periodic delay, periodic benefit, permit governmental authority, periodic, period require, period vessel, period result, period time limited, period time employee, period time, period subject, permit incur, period straight line, period straight, period specify, period rapid growth, periodic delay preclude, permit development process\n",
              "27                                                                                                                                                    despite effort retain, despite effort, short notice, terminate employment short, employment short, employment short notice, effort retain, effort retain valuable, team terminate employment, valuable employee member, employee member management, team terminate, retain valuable, retain valuable employee, valuable employee, despite, member management scientific, terminate employment, employee member, short, management scientific, valuable, notice, member management, terminate, effort, scientific, employment, development team, team, member, retain, management, management scientific medical, employee, scientific medical, development, medical, affair, employee terminate employment, employee terminate, development commercial, employment company, retain employee, regulatory affair, management sale marketing, management sale, commercial, clinical, sale marketing"
            ]
          },
          "metadata": {
            "tags": []
          },
          "execution_count": 0
        }
      ]
    },
    {
      "cell_type": "code",
      "metadata": {
        "colab": {
          "background_save": true
        },
        "id": "EQ1huriY7gWe",
        "outputId": "37721952-242f-4312-80a8-56d8bce60a75"
      },
      "source": [
        "# review the sentences within a selected cluster\n",
        "\n",
        "df_330_rel[(df_330_rel['cluster'] == 0) \\\n",
        "          #  & (df_330_rel['excerpt'].str.contains('minimum wage'))\\\n",
        "          #  & ~(df_330_rel['excerpt'].str.contains('could|if|may|will|risk|potential|increased|decreased|expense|pension'))\n",
        "           ][['excerpt', 'gic_code', 'cluster']].sample(5)"
      ],
      "execution_count": null,
      "outputs": [
        {
          "output_type": "execute_result",
          "data": {
            "text/html": [
              "<div>\n",
              "<style scoped>\n",
              "    .dataframe tbody tr th:only-of-type {\n",
              "        vertical-align: middle;\n",
              "    }\n",
              "\n",
              "    .dataframe tbody tr th {\n",
              "        vertical-align: top;\n",
              "    }\n",
              "\n",
              "    .dataframe thead th {\n",
              "        text-align: right;\n",
              "    }\n",
              "</style>\n",
              "<table border=\"1\" class=\"dataframe\">\n",
              "  <thead>\n",
              "    <tr style=\"text-align: right;\">\n",
              "      <th></th>\n",
              "      <th>excerpt</th>\n",
              "      <th>gic_code</th>\n",
              "      <th>cluster</th>\n",
              "    </tr>\n",
              "  </thead>\n",
              "  <tbody>\n",
              "    <tr>\n",
              "      <th>70799</th>\n",
              "      <td>Our success also depends upon retaining key management and technical personnel, as well as our ability to continue to attract and\\nretain additional highly qualified personnel.</td>\n",
              "      <td>330</td>\n",
              "      <td>0</td>\n",
              "    </tr>\n",
              "    <tr>\n",
              "      <th>44646</th>\n",
              "      <td>Planar‘s future success will depend largely\\non its ability to continue to attract, retain, and motivate highly skilled and qualified personnel.</td>\n",
              "      <td>330</td>\n",
              "      <td>0</td>\n",
              "    </tr>\n",
              "    <tr>\n",
              "      <th>8138</th>\n",
              "      <td>We believe that our success depends, and will likely continue to depend, upon our ability to retain the services of our current executive officers, directors, principal consultants and others.</td>\n",
              "      <td>330</td>\n",
              "      <td>0</td>\n",
              "    </tr>\n",
              "    <tr>\n",
              "      <th>41878</th>\n",
              "      <td>Our future success will depend in part upon our ability to attract and retain highly skilled and qualified personnel.</td>\n",
              "      <td>330</td>\n",
              "      <td>0</td>\n",
              "    </tr>\n",
              "    <tr>\n",
              "      <th>36295</th>\n",
              "      <td>Our future success depends on our ability to hire and retain qualified management, marketing, finance, accounting and technical employees, including senior management.</td>\n",
              "      <td>330</td>\n",
              "      <td>0</td>\n",
              "    </tr>\n",
              "  </tbody>\n",
              "</table>\n",
              "</div>"
            ],
            "text/plain": [
              "                                                                                                                                                                                                excerpt  \\\n",
              "70799                  Our success also depends upon retaining key management and technical personnel, as well as our ability to continue to attract and\\nretain additional highly qualified personnel.   \n",
              "44646                                                 Planar‘s future success will depend largely\\non its ability to continue to attract, retain, and motivate highly skilled and qualified personnel.   \n",
              "8138   We believe that our success depends, and will likely continue to depend, upon our ability to retain the services of our current executive officers, directors, principal consultants and others.   \n",
              "41878                                                                             Our future success will depend in part upon our ability to attract and retain highly skilled and qualified personnel.   \n",
              "36295                           Our future success depends on our ability to hire and retain qualified management, marketing, finance, accounting and technical employees, including senior management.   \n",
              "\n",
              "       gic_code  cluster  \n",
              "70799       330        0  \n",
              "44646       330        0  \n",
              "8138        330        0  \n",
              "41878       330        0  \n",
              "36295       330        0  "
            ]
          },
          "metadata": {
            "tags": []
          },
          "execution_count": 0
        }
      ]
    },
    {
      "cell_type": "markdown",
      "metadata": {
        "id": "HldWI2IxBW1a"
      },
      "source": [
        "## Step 4: Identify heuristics, apply to labeled dataset and review results\n",
        "\n",
        "Based on the results from the previous steps, we are able to prepare [heuristics](https://docs.google.com/spreadsheets/d/1UFZXp4X_eqEtWtIRllvnBI3BlUbQBSMwWUJY4WTpSOQ/edit#gid=0&range=A1) that can be used to filter 10-K paragraphs based on the themes and keywords identified above as well as the [SASB materiality map](https://materiality.sasb.org/).\n",
        "\n",
        "The purpose of this section is to:\n",
        "\n",
        "* Apply heuristics to identify relevant 10-K paragraphs\n",
        "* Generate one .csv containing all relevant paragraphs for downstream tasks (i.e. hypothesis testing) (saved in this [folder](https://drive.google.com/drive/u/1/folders/1FL4A61UZxGhqzKVWnikKNQ49weDsVLJh))\n",
        "* Generate one .csv containing 100 sampled relevant paragraphs for manual review (saved in this [folder](https://drive.google.com/drive/u/1/folders/1FL4A61UZxGhqzKVWnikKNQ49weDsVLJh))\n",
        "* Manually import and review the sampled dataset in [this Google Sheet](https://docs.google.com/spreadsheets/d/1UFZXp4X_eqEtWtIRllvnBI3BlUbQBSMwWUJY4WTpSOQ/edit?usp=sharing)\n",
        "* Refine heuristics as needed"
      ]
    },
    {
      "cell_type": "markdown",
      "metadata": {
        "id": "ska-LlGHhOEl"
      },
      "source": [
        "### Option 1: Use `pandas` to import data from csv and apply heuristics\n",
        "\n",
        "Please note that:\n",
        "* this option takes more time since it opens and loads the csv's for all years from Google Drive every single time\n",
        "* we did not load all csv's at once because Colab will crash from running out of memory."
      ]
    },
    {
      "cell_type": "code",
      "metadata": {
        "id": "xN3FVFMoGwN3"
      },
      "source": [
        "def apply_heuristics(text, terms_to_include, terms_to_exclude):\n",
        "\n",
        "  # lowercase text\n",
        "  text = text.lower()\n",
        "\n",
        "  # replace line breaks\n",
        "  text = text.replace('\\n', '')\n",
        "\n",
        "  # space_symbol = '(\\s|[!\"\\#$%&'+\"'()*+,\\-./:;<=>?@\\[\\\\\\]^_‘{|}~])\"\n",
        "  # terms_to_include = [t.replace(' ', space_symbol) for t in terms_to_include]\n",
        "  # terms_to_exclude = [t.replace(' ', space_symbol) for t in terms_to_exclude]\n",
        "\n",
        "  terms_to_include = terms_to_include[0] if len(terms_to_include) == 1 else '|'.join(terms_to_include)\n",
        "  terms_to_exclude = terms_to_exclude[0] if len(terms_to_exclude) == 1 else '|'.join(terms_to_exclude)\n",
        "\n",
        "  if (len(terms_to_include) == 0 or re.search(terms_to_include, text)) \\\n",
        "      and (len(terms_to_exclude) == 0 or (not re.search(terms_to_exclude, text))):\n",
        "      return 1\n",
        "  else:\n",
        "    return 0"
      ],
      "execution_count": null,
      "outputs": []
    },
    {
      "cell_type": "code",
      "metadata": {
        "colab": {
          "background_save": true
        },
        "id": "AY2Rs7x-z5iQ"
      },
      "source": [
        "#@title 330.1 { display-mode: \"both\" }\n",
        "# import packages\n",
        "import pandas as pd\n",
        "import re\n",
        "from tqdm.notebook import tqdm_notebook\n",
        "tqdm_notebook.pandas()\n",
        "pd.set_option('display.max_columns', None)\n",
        "pd.set_option('display.max_rows', None)\n",
        "pd.set_option('display.max_colwidth', None)\n",
        "\n",
        "\n",
        "### UPDATE ME!!! SET UP COMPONENTS OF FILE NAME ###\n",
        "GIC_HEURISTIC_ID = '330.1'\n",
        "\n",
        "#### UPDATE ME!!! SET UP HEURISTICS ###\n",
        "HEURISTICS = [\n",
        "              # PASS #1\n",
        "              {'include': [' women', ' woman', ' female', ' male'],\n",
        "               'exclude': []},\n",
        "              # PASS #2\n",
        "              {'include': [],\n",
        "               'exclude': [\n",
        "                           'apparel', ' men\\'s women\\'s',\n",
        "                           'apparel', ' women\\'s and men\\'s',\n",
        "                           'apparel', ' women\\s brands', ' men women'\n",
        "                           ' women\\'s sportswear', ' womenswear', ' fertility', ' egg', ' uterus',\n",
        "                           ' infertility', 'menopaus', ' ovaries', ' embryo', ' IVF', ' bebe woman',\n",
        "                           ' swimwear', ' fashion conscious woman', ' healthy female', ' healthy male',\n",
        "                           ' reproductive', ' cancer', 'menstru', 'men and women', 'males and females',\n",
        "                           ' potty', ' merchandise', 'males and females', ' decor', ' art', ' footwear',\n",
        "                           ' accessories', ' death', ' disease', ' symptom', ' patient', ' infection',\n",
        "                           ' shoes', ' cosmetics', ' designers'\n",
        "                           ]},\n",
        "              # PASS #3\n",
        "              {'include': [],\n",
        "               'exclude': [' blood', ' umbilical', ' wine',' deficiencies', ' multivitamin', ' doctor',\n",
        "                           ' calori', ' estrogen', ' drug', ' dance', ' laxatives', ' smoking', ' Clinical',\n",
        "                           'placebo', ' FDA', ' testosterone', ' covid', ' disorder', ' participants'\n",
        "              ]}\n",
        "              ]\n",
        "\n",
        "# set up apply_heuristics method\n",
        "\n",
        "# set up dataframes to store positive and negative results\n",
        "df_result_pos = pd.DataFrame()\n",
        "df_result_neg = pd.DataFrame()\n",
        "\n",
        "# load 10k paragraphs and apply heuristics\n",
        "for year in range(2013, 2022): # 10-k submission years\n",
        "\n",
        "  # import each year's 10-K paragraphs\n",
        "  df_tmp = pd.read_csv('/content/drive/MyDrive/DFG Cost of Human Rights Violations/Datasets/10k_clean_text/_0.2 paragraphed/10ks_para_sics/10ks_para_sics_'+str(year)+'.csv')\n",
        "\n",
        "  for h in HEURISTICS:\n",
        "    # apply heuristics\n",
        "    df_tmp['result'] = df_tmp['text'].progress_apply(lambda x: \\\n",
        "                          apply_heuristics(x, h['include'], h['exclude']))\n",
        "    \n",
        "    # keep some negative results for review later \n",
        "    df_tmp_neg = df_tmp[df_tmp['result'] == 0]\n",
        "    if df_tmp_neg.shape[0] > 10:\n",
        "      df_tmp_neg = df_tmp_neg.sample(10)\n",
        "    df_result_neg = pd.concat((df_result_neg, df_tmp_neg))\n",
        "\n",
        "    # remove all negative results\n",
        "    df_tmp = df_tmp[df_tmp['result'] == 1]\n",
        "\n",
        "   # append to positive results \n",
        "  df_result_pos = pd.concat((df_result_pos, df_tmp))\n",
        "\n",
        "df_result_pos['gic_heuristic_id'] = GIC_HEURISTIC_ID\n",
        "df_result_neg['gic_heuristic_id'] = GIC_HEURISTIC_ID\n",
        "\n",
        "# check the shape of data\n",
        "print('shape:', df_result_pos.shape)\n",
        "print('shape:', df_result_neg.shape)\n",
        "\n",
        "# export data\n",
        "df_result_pos.to_csv('/content/drive/MyDrive/DFG Cost of Human Rights Violations/Datasets/10k_clean_text/_1.0 hypothesis testing/10ks_para_sics_gic'+GIC_HEURISTIC_ID+'_full_pos.csv', index=False)\n",
        "df_result_pos[['gic_heuristic_id', 'id', 'ticker_display', 'primary_industry_id', 'text']].sample(100).to_csv('/content/drive/MyDrive/DFG Cost of Human Rights Violations/Datasets/10k_clean_text/_1.0 hypothesis testing/10ks_para_sics_gic'+GIC_HEURISTIC_ID+'_sample_pos.csv', index=False)\n",
        "df_result_neg[['gic_heuristic_id', 'id', 'ticker_display', 'primary_industry_id', 'text']].to_csv('/content/drive/MyDrive/DFG Cost of Human Rights Violations/Datasets/10k_clean_text/_1.0 hypothesis testing/10ks_para_sics_gic'+GIC_HEURISTIC_ID+'_sample_neg.csv', index=False)\n"
      ],
      "execution_count": null,
      "outputs": []
    },
    {
      "cell_type": "code",
      "metadata": {
        "cellView": "form",
        "colab": {
          "background_save": true
        },
        "id": "48aKmh4NDJeK"
      },
      "source": [
        "#@title Default title text\n",
        "# import packages\n",
        "import pandas as pd\n",
        "import re\n",
        "from tqdm.notebook import tqdm_notebook\n",
        "tqdm_notebook.pandas()\n",
        "pd.set_option('display.max_columns', None)\n",
        "pd.set_option('display.max_rows', None)\n",
        "pd.set_option('display.max_colwidth', None)\n",
        "\n",
        "\n",
        "### UPDATE ME!!! SET UP COMPONENTS OF FILE NAME ###\n",
        "GIC_HEURISTIC_ID = '330.2'\n",
        "\n",
        "#### UPDATE ME!!! SET UP HEURISTICS ###\n",
        "HEURISTICS = [\n",
        "              # PASS #1\n",
        "              {'include': [' diverse', ' diversity',' minori', 'ethnicit','gender',\n",
        "                           ],\n",
        "               'exclude': []},\n",
        "              # PASS #2\n",
        "             \n",
        "              {'include': [],\n",
        "               'exclude': [' diversified customer base', ' investment', ' wildlife', 'diverse portfolio',\n",
        "                           'diverse opportunities', ' diverse fuel', ' diverse mortgage', 'geographically',\n",
        "                           ' patient', ' franchisees', ' financ']}\n",
        "            \n",
        "              ]\n",
        "\n",
        "\n",
        "# set up dataframes to store positive and negative results\n",
        "df_result_pos = pd.DataFrame()\n",
        "df_result_neg = pd.DataFrame()\n",
        "\n",
        "# load 10k paragraphs and apply heuristics\n",
        "for year in range(2013, 2022): # 10-k submission years\n",
        "\n",
        "  # import each year's 10-K paragraphs\n",
        "  df_tmp = pd.read_csv('/content/drive/MyDrive/DFG Cost of Human Rights Violations/Datasets/10k_clean_text/_0.2 paragraphed/10ks_para_sics/10ks_para_sics_'+str(year)+'.csv')\n",
        "\n",
        "  for h in HEURISTICS:\n",
        "    # apply heuristics\n",
        "    df_tmp['result'] = df_tmp['text'].progress_apply(lambda x: \\\n",
        "                          apply_heuristics(x, h['include'], h['exclude']))\n",
        "    \n",
        "    # keep some negative results for review later \n",
        "    df_tmp_neg = df_tmp[df_tmp['result'] == 0]\n",
        "    if df_tmp_neg.shape[0] > 10:\n",
        "      df_tmp_neg = df_tmp_neg.sample(10)\n",
        "    df_result_neg = pd.concat((df_result_neg, df_tmp_neg))\n",
        "\n",
        "    # remove all negative results\n",
        "    df_tmp = df_tmp[df_tmp['result'] == 1]\n",
        "\n",
        "   # append to positive results \n",
        "  df_result_pos = pd.concat((df_result_pos, df_tmp))\n",
        "\n",
        "df_result_pos['gic_heuristic_id'] = GIC_HEURISTIC_ID\n",
        "df_result_neg['gic_heuristic_id'] = GIC_HEURISTIC_ID\n",
        "\n",
        "# check the shape of data\n",
        "print('shape:', df_result_pos.shape)\n",
        "print('shape:', df_result_neg.shape)\n",
        "\n",
        "# export data\n",
        "df_result_pos.to_csv('/content/drive/MyDrive/DFG Cost of Human Rights Violations/Datasets/10k_clean_text/_1.0 hypothesis testing/10ks_para_sics_gic'+GIC_HEURISTIC_ID+'_full_pos.csv', index=False)\n",
        "df_result_pos[['gic_heuristic_id', 'id', 'ticker_display', 'primary_industry_id', 'text']].sample(100).to_csv('/content/drive/MyDrive/DFG Cost of Human Rights Violations/Datasets/10k_clean_text/_1.0 hypothesis testing/10ks_para_sics_gic'+GIC_HEURISTIC_ID+'_sample_pos.csv', index=False)\n",
        "df_result_neg[['gic_heuristic_id', 'id', 'ticker_display', 'primary_industry_id', 'text']].to_csv('/content/drive/MyDrive/DFG Cost of Human Rights Violations/Datasets/10k_clean_text/_1.0 hypothesis testing/10ks_para_sics_gic'+GIC_HEURISTIC_ID+'_sample_neg.csv', index=False)\n"
      ],
      "execution_count": null,
      "outputs": []
    },
    {
      "cell_type": "code",
      "metadata": {
        "cellView": "form",
        "colab": {
          "background_save": true
        },
        "id": "FlvklOesM7sE"
      },
      "source": [
        "#@title Default title text\n",
        "# import packages\n",
        "import pandas as pd\n",
        "import re\n",
        "from tqdm.notebook import tqdm_notebook\n",
        "tqdm_notebook.pandas()\n",
        "pd.set_option('display.max_columns', None)\n",
        "pd.set_option('display.max_rows', None)\n",
        "pd.set_option('display.max_colwidth', None)\n",
        "\n",
        "### UPDATE ME!!! SET UP COMPONENTS OF FILE NAME ###\n",
        "GIC_HEURISTIC_ID = '330.3'\n",
        "\n",
        "#### UPDATE ME!!! SET UP HEURISTICS ###\n",
        "HEURISTICS = [\n",
        "              # PASS #1\n",
        "              {'include': [' race',' racism',' racial',' discriminat'],\n",
        "               'exclude': []},\n",
        "              # PASS #2\n",
        "              # {'include': [],\n",
        "              #  'exclude': ['racetrack', 'black-scholes', 'blackhawk', 'black hills', 'black tattoos',\n",
        "              #              'black market', 'white wolf', 'whitegate', 'black bird', 'spartan race inc', 'blackstone',\n",
        "              #              'blackwell', 'blackout', 'black lake', 'white water rafting', 'white blood cells', 'white furnishings']},\n",
        "              \n",
        "              {'include': [],\n",
        "               'exclude': ['racetrack', 'spartan race inc' ' racer', 'formula 1', ' circuit', ' driver', ' raceland',\n",
        "                           'nascar', 'race promot', 'race teams', 'raceway', 'discrimination in credit', ' race park', 'horse',\n",
        "                           'track', 'racemic', 'racing']}\n",
        "              \n",
        "              ]\n",
        "\n",
        "\n",
        "# set up dataframes to store positive and negative results\n",
        "df_result_pos = pd.DataFrame()\n",
        "df_result_neg = pd.DataFrame()\n",
        "\n",
        "# load 10k paragraphs and apply heuristics\n",
        "for year in range(2013, 2022): # 10-k submission years\n",
        "\n",
        "  # import each year's 10-K paragraphs\n",
        "  df_tmp = pd.read_csv('/content/drive/MyDrive/DFG Cost of Human Rights Violations/Datasets/10k_clean_text/_0.2 paragraphed/10ks_para_sics/10ks_para_sics_'+str(year)+'.csv')\n",
        "\n",
        "  for h in HEURISTICS:\n",
        "    # apply heuristics\n",
        "    df_tmp['result'] = df_tmp['text'].progress_apply(lambda x: \\\n",
        "                          apply_heuristics(x, h['include'], h['exclude']))\n",
        "    \n",
        "    # keep some negative results for review later \n",
        "    df_tmp_neg = df_tmp[df_tmp['result'] == 0]\n",
        "    if df_tmp_neg.shape[0] > 10:\n",
        "      df_tmp_neg = df_tmp_neg.sample(10)\n",
        "    df_result_neg = pd.concat((df_result_neg, df_tmp_neg))\n",
        "\n",
        "    # remove all negative results\n",
        "    df_tmp = df_tmp[df_tmp['result'] == 1]\n",
        "\n",
        "   # append to positive results \n",
        "  df_result_pos = pd.concat((df_result_pos, df_tmp))\n",
        "\n",
        "df_result_pos['gic_heuristic_id'] = GIC_HEURISTIC_ID\n",
        "df_result_neg['gic_heuristic_id'] = GIC_HEURISTIC_ID\n",
        "\n",
        "# check the shape of data\n",
        "print('shape:', df_result_pos.shape)\n",
        "print('shape:', df_result_neg.shape)\n",
        "\n",
        "# export data\n",
        "df_result_pos.to_csv('/content/drive/MyDrive/DFG Cost of Human Rights Violations/Datasets/10k_clean_text/_1.0 hypothesis testing/10ks_para_sics_gic'+GIC_HEURISTIC_ID+'_full_pos.csv', index=False)\n",
        "df_result_pos[['gic_heuristic_id', 'id', 'ticker_display', 'primary_industry_id', 'text']].sample(100).to_csv('/content/drive/MyDrive/DFG Cost of Human Rights Violations/Datasets/10k_clean_text/_1.0 hypothesis testing/10ks_para_sics_gic'+GIC_HEURISTIC_ID+'_sample_pos.csv', index=False)\n",
        "df_result_neg[['gic_heuristic_id', 'id', 'ticker_display', 'primary_industry_id', 'text']].to_csv('/content/drive/MyDrive/DFG Cost of Human Rights Violations/Datasets/10k_clean_text/_1.0 hypothesis testing/10ks_para_sics_gic'+GIC_HEURISTIC_ID+'_sample_neg.csv', index=False)\n"
      ],
      "execution_count": null,
      "outputs": []
    },
    {
      "cell_type": "code",
      "metadata": {
        "cellView": "form",
        "id": "TDi6L06TXMm_"
      },
      "source": [
        "#@title 330.4\n",
        "# import packages\n",
        "import pandas as pd\n",
        "import re\n",
        "from tqdm.notebook import tqdm_notebook\n",
        "tqdm_notebook.pandas()\n",
        "pd.set_option('display.max_columns', None)\n",
        "pd.set_option('display.max_rows', None)\n",
        "pd.set_option('display.max_colwidth', None)\n",
        "\n",
        "### UPDATE ME!!! SET UP COMPONENTS OF FILE NAME ###\n",
        "GIC_HEURISTIC_ID = '330.4'\n",
        "\n",
        "#### UPDATE ME!!! SET UP HEURISTICS ###\n",
        "HEURISTICS = [\n",
        "              # PASS #1\n",
        "              {'include': [' hostile',' bully',' harass', ' sexual', ' inappropriate'],\n",
        "               'exclude': []}\n",
        "              ]\n",
        "\n",
        "\n",
        "# set up dataframes to store positive and negative results\n",
        "df_result_pos = pd.DataFrame()\n",
        "df_result_neg = pd.DataFrame()\n",
        "\n",
        "# load 10k paragraphs and apply heuristics\n",
        "for year in range(2013, 2022): # 10-k submission years\n",
        "\n",
        "  # import each year's 10-K paragraphs\n",
        "  df_tmp = pd.read_csv('/content/drive/MyDrive/DFG Cost of Human Rights Violations/Datasets/10k_clean_text/_0.2 paragraphed/10ks_para_sics/10ks_para_sics_'+str(year)+'.csv')\n",
        "\n",
        "  for h in HEURISTICS:\n",
        "    # apply heuristics\n",
        "    df_tmp['result'] = df_tmp['text'].progress_apply(lambda x: \\\n",
        "                          apply_heuristics(x, h['include'], h['exclude']))\n",
        "    \n",
        "    # keep some negative results for review later \n",
        "    df_tmp_neg = df_tmp[df_tmp['result'] == 0]\n",
        "    if df_tmp_neg.shape[0] > 10:\n",
        "      df_tmp_neg = df_tmp_neg.sample(10)\n",
        "    df_result_neg = pd.concat((df_result_neg, df_tmp_neg))\n",
        "\n",
        "    # remove all negative results\n",
        "    df_tmp = df_tmp[df_tmp['result'] == 1]\n",
        "\n",
        "   # append to positive results \n",
        "  df_result_pos = pd.concat((df_result_pos, df_tmp))\n",
        "\n",
        "df_result_pos['gic_heuristic_id'] = GIC_HEURISTIC_ID\n",
        "df_result_neg['gic_heuristic_id'] = GIC_HEURISTIC_ID\n",
        "\n",
        "# check the shape of data\n",
        "print('shape:', df_result_pos.shape)\n",
        "print('shape:', df_result_neg.shape)\n",
        "\n",
        "# export data\n",
        "df_result_pos.to_csv('/content/drive/MyDrive/DFG Cost of Human Rights Violations/Datasets/10k_clean_text/_1.0 hypothesis testing/10ks_para_sics_gic'+GIC_HEURISTIC_ID+'_full_pos.csv', index=False)\n",
        "df_result_pos[['gic_heuristic_id', 'id', 'ticker_display', 'primary_industry_id', 'text']].sample(100).to_csv('/content/drive/MyDrive/DFG Cost of Human Rights Violations/Datasets/10k_clean_text/_1.0 hypothesis testing/10ks_para_sics_gic'+GIC_HEURISTIC_ID+'_sample_pos.csv', index=False)\n",
        "df_result_neg[['gic_heuristic_id', 'id', 'ticker_display', 'primary_industry_id', 'text']].to_csv('/content/drive/MyDrive/DFG Cost of Human Rights Violations/Datasets/10k_clean_text/_1.0 hypothesis testing/10ks_para_sics_gic'+GIC_HEURISTIC_ID+'_sample_neg.csv', index=False)\n"
      ],
      "execution_count": null,
      "outputs": []
    },
    {
      "cell_type": "markdown",
      "metadata": {
        "id": "PMNNzwfRXcf0"
      },
      "source": [
        "###Option 2: Use Google BigQuery to perform the keyword search\n",
        "\n",
        "Please note that:\n",
        "* this option is SIGNIFICANTLY faster since a table with data from all submission years (2013-2021) is already stored on BigQuery\n",
        "* there is a monthly cost associated with the storage of the data (first 10GB is free) as well as querying of the data (first 1TB of query is free)\n",
        "* BigQuery can be accessed [here](https://console.cloud.google.com/bigquery?authuser=1&project=dfg-cohrv-314114&ws=!1m5!1m4!4m3!1sdfg-cohrv-314114!2sdfg_cohrv!3s10ks_para_sics&d=dfg_cohrv&p=dfg-cohrv-314114&t=10ks_para_sics&page=table) where you can query the data directly from the browser and export the result into a Google Sheet for further analysis"
      ]
    },
    {
      "cell_type": "code",
      "metadata": {
        "cellView": "code",
        "colab": {
          "background_save": true,
          "base_uri": "https://localhost:8080/",
          "height": 102,
          "referenced_widgets": [
            "705ece0ca71a400c8540213996fd9843",
            "9810f797696642559904ee0814f761ad",
            "e55b48f1994246f2bce8005c25f293b2"
          ]
        },
        "id": "7XAO67om1Q0R",
        "outputId": "0d9fe626-17c8-4c84-f0f3-5519bf8d3940"
      },
      "source": [
        "#@title Default title text\n",
        "# import packages\n",
        "import pandas as pd\n",
        "import re\n",
        "from tqdm.notebook import tqdm_notebook\n",
        "tqdm_notebook.pandas()\n",
        "pd.set_option('display.max_columns', None)\n",
        "pd.set_option('display.max_rows', None)\n",
        "pd.set_option('display.max_colwidth', None)\n",
        "\n",
        "### UPDATE ME!!! SET UP COMPONENTS OF FILE NAME ###\n",
        "GIC_HEURISTIC_ID = '330.5'\n",
        "\n",
        "#### UPDATE ME!!! SET UP HEURISTICS ###\n",
        "hiring_context = '( hire |hiring|hired)'\n",
        "women_minorities_context = '(women|female|minorities| color |enthinicities)' \n",
        "any_valid_chars = '([A-Za-z\\d%,;\\'\\\\\"\"\"\"\\s])*'\n",
        "\n",
        "HEURISTICS = [\n",
        "              # PASS #1\n",
        "              {'include': ['('+any_valid_chars+hiring_context+any_valid_chars\\\n",
        "                    +women_minorities_context+any_valid_chars+'[.?!])'],\n",
        "               'exclude': []}\n",
        "              ]\n",
        "\n",
        "\n",
        "# set up dataframes to store positive and negative results\n",
        "df_result_pos = pd.DataFrame()\n",
        "df_result_neg = pd.DataFrame()\n",
        "\n",
        "# load 10k paragraphs and apply heuristics\n",
        "for year in range(2013, 2022): # 10-k submission years\n",
        "\n",
        "  # import each year's 10-K paragraphs\n",
        "  df_tmp = pd.read_csv('/content/drive/MyDrive/DFG Cost of Human Rights Violations/Datasets/10k_clean_text/_0.2 paragraphed/10ks_para_sics/10ks_para_sics_'+str(year)+'.csv')\n",
        "\n",
        "  for h in HEURISTICS:\n",
        "    # apply heuristics\n",
        "    df_tmp['result'] = df_tmp['text'].progress_apply(lambda x: \\\n",
        "                          apply_heuristics(x, h['include'], h['exclude']))\n",
        "    \n",
        "    # keep some negative results for review later \n",
        "    df_tmp_neg = df_tmp[df_tmp['result'] == 0]\n",
        "    if df_tmp_neg.shape[0] > 10:\n",
        "      df_tmp_neg = df_tmp_neg.sample(10)\n",
        "    df_result_neg = pd.concat((df_result_neg, df_tmp_neg))\n",
        "\n",
        "    # remove all negative results\n",
        "    df_tmp = df_tmp[df_tmp['result'] == 1]\n",
        "\n",
        "   # append to positive results \n",
        "  df_result_pos = pd.concat((df_result_pos, df_tmp))\n",
        "\n",
        "df_result_pos['gic_heuristic_id'] = GIC_HEURISTIC_ID\n",
        "df_result_neg['gic_heuristic_id'] = GIC_HEURISTIC_ID\n",
        "\n",
        "# check the shape of data\n",
        "print('shape:', df_result_pos.shape)\n",
        "print('shape:', df_result_neg.shape)\n",
        "\n",
        "# export data\n",
        "df_result_pos.to_csv('/content/drive/MyDrive/DFG Cost of Human Rights Violations/Datasets/10k_clean_text/_1.0 hypothesis testing/10ks_para_sics_gic'+GIC_HEURISTIC_ID+'_full_pos.csv', index=False)\n",
        "df_result_pos[['gic_heuristic_id', 'id', 'ticker_display', 'primary_industry_id', 'text']].sample(100).to_csv('/content/drive/MyDrive/DFG Cost of Human Rights Violations/Datasets/10k_clean_text/_1.0 hypothesis testing/10ks_para_sics_gic'+GIC_HEURISTIC_ID+'_sample_pos.csv', index=False)\n",
        "df_result_neg[['gic_heuristic_id', 'id', 'ticker_display', 'primary_industry_id', 'text']].to_csv('/content/drive/MyDrive/DFG Cost of Human Rights Violations/Datasets/10k_clean_text/_1.0 hypothesis testing/10ks_para_sics_gic'+GIC_HEURISTIC_ID+'_sample_neg.csv', index=False)\n"
      ],
      "execution_count": null,
      "outputs": [
        {
          "output_type": "stream",
          "text": [
            "/usr/local/lib/python3.7/dist-packages/tqdm/std.py:658: FutureWarning:\n",
            "\n",
            "The Panel class is removed from pandas. Accessing it from the top-level namespace will also be removed in the next version\n",
            "\n"
          ],
          "name": "stderr"
        },
        {
          "output_type": "display_data",
          "data": {
            "application/vnd.jupyter.widget-view+json": {
              "model_id": "705ece0ca71a400c8540213996fd9843",
              "version_major": 2,
              "version_minor": 0
            },
            "text/plain": [
              "HBox(children=(FloatProgress(value=0.0, max=1453574.0), HTML(value='')))"
            ]
          },
          "metadata": {
            "tags": []
          }
        },
        {
          "output_type": "stream",
          "text": [
            "\n"
          ],
          "name": "stdout"
        },
        {
          "output_type": "display_data",
          "data": {
            "application/vnd.jupyter.widget-view+json": {
              "model_id": "9810f797696642559904ee0814f761ad",
              "version_major": 2,
              "version_minor": 0
            },
            "text/plain": [
              "HBox(children=(FloatProgress(value=0.0, max=1583834.0), HTML(value='')))"
            ]
          },
          "metadata": {
            "tags": []
          }
        },
        {
          "output_type": "stream",
          "text": [
            "\n"
          ],
          "name": "stdout"
        },
        {
          "output_type": "display_data",
          "data": {
            "application/vnd.jupyter.widget-view+json": {
              "model_id": "e55b48f1994246f2bce8005c25f293b2",
              "version_major": 2,
              "version_minor": 0
            },
            "text/plain": [
              "HBox(children=(FloatProgress(value=0.0, max=1719899.0), HTML(value='')))"
            ]
          },
          "metadata": {
            "tags": []
          }
        }
      ]
    },
    {
      "cell_type": "code",
      "metadata": {
        "id": "7G7dKPrFA2NS"
      },
      "source": [
        "# authenticate to BigQuery\n",
        "# if you do not have access, please contact Lawrence at lcl2152@columbia.edu\n",
        "\n",
        "from google.colab import auth\n",
        "auth.authenticate_user()\n",
        "\n",
        "project_id = 'dfg-cohrv-314114'"
      ],
      "execution_count": null,
      "outputs": []
    },
    {
      "cell_type": "code",
      "metadata": {
        "id": "ftpfG-spO4dL"
      },
      "source": [
        "# preprocessing to append data to the BigQuery table\n",
        "# DO NOT RERUN. THIS STEP IS ALREADY DONE FOR 2013-2021 SUBMISSION YEARS\n",
        "\n",
        "# import pandas as pd\n",
        "\n",
        "# https://cloud.google.com/resource-manager/docs/creating-managing-projects\n",
        "# project_id = 'dfg-cohrv-314114'\n",
        "# for year in range(2013,2022):\n",
        "#   df_tmp = pd.read_csv('/content/drive/MyDrive/DFG Cost of Human Rights Violations/Datasets/10k_clean_text/_0.2 paragraphed/10ks_para_sics/10ks_para_sics_'+str(year)+'.csv')\n",
        "#   df_tmp.to_gbq('dfg_cohrv.10ks_para_sics', project_id, if_exists='append', chunksize=100000)"
      ],
      "execution_count": null,
      "outputs": []
    },
    {
      "cell_type": "code",
      "metadata": {
        "id": "80MWGlIGBIzB",
        "cellView": "form"
      },
      "source": [
        "#@title Irrelevant\n",
        "import pandas as pd\n",
        "# https://cloud.google.com/resource-manager/docs/creating-managing-projects\n",
        "\n",
        "##### UPDATE ME! #####\n",
        "GIC_HEURISTIC_ID = '310.2' \n",
        "\n",
        "# don't worry about case sensitivity. it is taken care of in the SQL statement\n",
        "\n",
        "terms_to_include = [' collective bargain', ' cba']\n",
        "\n",
        "# terms_to_exclude = []\n",
        "\n",
        "terms_to_exclude = [' no collective bargain', ' any collective bargain',\n",
        "                    ' none of ', ' not covered ', ' not represented ', \n",
        "                    ' not subject to ', ' no \\w+ covered ', \n",
        "                    ' no \\w+ represented ', ' not a party ', ' not parties ']\n",
        "\n",
        "# combine terms to include into a regex statement\n",
        "if len(terms_to_include) > 0:\n",
        "  terms_to_include = terms_to_include[0] if len(terms_to_include) == 1 else '|'.join(terms_to_include)\n",
        "else:\n",
        "  terms_to_include = '~'\n",
        "\n",
        "# combine terms to exclude into a regex statement\n",
        "if len(terms_to_exclude) > 0:  \n",
        "  terms_to_exclude = terms_to_exclude[0] if len(terms_to_exclude) == 1 else '|'.join(terms_to_exclude)\n",
        "else:\n",
        "  terms_to_exclude = '~'\n",
        "\n",
        "# retrieve positive results\n",
        "df_result_pos = pd.io.gbq.read_gbq(\n",
        "  '''\n",
        "  SELECT *\n",
        "  FROM `dfg_cohrv.10ks_para_sics`\n",
        "  WHERE \n",
        "    REGEXP_CONTAINS(text, r\"(?i)('''+terms_to_include+''')\") \n",
        "    AND NOT REGEXP_CONTAINS(text, r\"(?i)('''+terms_to_exclude+''')\")\n",
        "  '''\n",
        ", project_id=project_id)\n",
        "\n",
        "# retrieve negative results\n",
        "df_result_neg = pd.io.gbq.read_gbq(\n",
        "  '''\n",
        "  WITH t AS\n",
        "  (\n",
        "    SELECT *\n",
        "    FROM `dfg_cohrv.10ks_para_sics`\n",
        "    WHERE \n",
        "      REGEXP_CONTAINS(text, r\"(?i)('''+terms_to_include+''')\") \n",
        "      AND REGEXP_CONTAINS(text, r\"(?i)('''+terms_to_exclude+''')\")\n",
        "  )\n",
        "  SELECT * FROM t\n",
        "  WHERE RAND() < 100/(SELECT COUNT(*) FROM t)  \n",
        "  '''\n",
        ", project_id=project_id)\n",
        "\n",
        "df_result_pos['gic_heuristic_id'] = GIC_HEURISTIC_ID\n",
        "df_result_neg['gic_heuristic_id'] = GIC_HEURISTIC_ID\n",
        "\n",
        "df_result_pos = df_result_pos[['gic_heuristic_id', 'id', 'ticker_display', 'primary_industry_id', 'text']]\n",
        "df_result_neg = df_result_neg[['gic_heuristic_id', 'id', 'ticker_display', 'primary_industry_id', 'text']]\n",
        "\n",
        "df_result_pos.to_csv('/content/drive/MyDrive/DFG Cost of Human Rights Violations/Datasets/10k_clean_text/_1.0 hypothesis testing/10ks_para_sics_gic'+GIC_HEURISTIC_ID+'_full_pos.csv', index=False)\n",
        "df_result_pos.sample(100).to_csv('/content/drive/MyDrive/DFG Cost of Human Rights Violations/Datasets/10k_clean_text/_1.0 hypothesis testing/10ks_para_sics_gic'+GIC_HEURISTIC_ID+'_sample_pos.csv', index=False)\n",
        "df_result_neg.to_csv('/content/drive/MyDrive/DFG Cost of Human Rights Violations/Datasets/10k_clean_text/_1.0 hypothesis testing/10ks_para_sics_gic'+GIC_HEURISTIC_ID+'_sample_neg.csv', index=False)"
      ],
      "execution_count": null,
      "outputs": []
    },
    {
      "cell_type": "markdown",
      "metadata": {
        "id": "FeFNEh5AXBD8"
      },
      "source": [
        "Use the following cell to review specific data"
      ]
    },
    {
      "cell_type": "code",
      "metadata": {
        "id": "Aashs5YiV2dd",
        "cellView": "form"
      },
      "source": [
        "#@title Irrelevant\n",
        "import pandas as pd\n",
        "pd.set_option('display.max_columns', None)\n",
        "pd.set_option('display.max_rows', None)\n",
        "pd.set_option('display.max_colwidth', None)\n",
        "\n",
        "\n",
        "GIC_HEURISTIC_ID = '310.2' \n",
        "\n",
        "terms_to_include = ['\\s*collective bargain', ' cba']\n",
        "\n",
        "# terms_to_exclude = []\n",
        "\n",
        "terms_to_exclude = ['\\s*(no|any) collective bargain',\n",
        "                    '\\s*(no|none|not)+(\\w|\\s|\\')*(cover|subject|represent)+(\\w|\\s|\\')*collective bargain', \n",
        "                    '\\s*collective bargain(\\w|\\s|\\')*do\\w* not cover', \n",
        "                    '\\s*do\\w* not have (\\w|\\s|\\')*collective bargain',\n",
        "                    '\\s*not a*\\s*(party|parties)+(\\w|\\s|\\')*collective bargain',\n",
        "                    ' discount']\n",
        "\n",
        "# combine terms to include into a regex statement\n",
        "if len(terms_to_include) > 0:\n",
        "  terms_to_include = terms_to_include[0] if len(terms_to_include) == 1 else '|'.join(terms_to_include)\n",
        "else:\n",
        "  terms_to_include = '~'\n",
        "\n",
        "# combine terms to exclude into a regex statement\n",
        "if len(terms_to_exclude) > 0:  \n",
        "  terms_to_exclude = terms_to_exclude[0] if len(terms_to_exclude) == 1 else '|'.join(terms_to_exclude)\n",
        "else:\n",
        "  terms_to_exclude = '~'\n",
        "\n",
        "df_tmp = pd.io.gbq.read_gbq(\n",
        "  '''\n",
        "  WITH t AS\n",
        "  (\n",
        "    SELECT *\n",
        "    FROM `dfg_cohrv.10ks_para_sics`\n",
        "    WHERE \n",
        "      REGEXP_CONTAINS(text, r\"(?i)('''+terms_to_include+''')\") \n",
        "      AND REGEXP_CONTAINS(text, r\"(?i)('''+terms_to_exclude+''')\")\n",
        "      AND REGEXP_CONTAINS(id, r\"_2013\")\n",
        "      # AND primary_industry_id = \"CG-AA\"\n",
        "  )\n",
        "  SELECT * FROM t\n",
        "  '''\n",
        ", project_id=project_id)\n",
        "\n",
        "df_tmp['gic_heuristic_id'] = GIC_HEURISTIC_ID\n",
        "df_tmp = df_tmp[['gic_heuristic_id', 'id', 'ticker_display', 'primary_industry_id', 'text']]\n",
        "df_tmp = df_tmp.sort_values(by=['primary_industry_id', 'ticker_display'])\n",
        "# df_tmp.to_csv('/content/drive/MyDrive/DFG Cost of Human Rights Violations/Datasets/10k_clean_text/_1.0 hypothesis testing/df_tmp.csv', index=False)\n",
        "df_tmp[['primary_industry_id', 'ticker_display', 'text']]\n"
      ],
      "execution_count": null,
      "outputs": []
    },
    {
      "cell_type": "code",
      "metadata": {
        "id": "Ru7nyuWVywRA"
      },
      "source": [
        "len(df_tmp['ticker_display'].unique())"
      ],
      "execution_count": null,
      "outputs": []
    },
    {
      "cell_type": "markdown",
      "metadata": {
        "id": "zFrXpttgz3CY"
      },
      "source": [
        "---\n",
        "# DO NOT USE"
      ]
    },
    {
      "cell_type": "code",
      "metadata": {
        "id": "YxrcJGvEuBdD"
      },
      "source": [
        "CHECKED_TICKERS = ['AAL', 'AAWW', 'ALSK', 'APG', 'ATSG', 'BXC', 'EME', 'EXC', 'FE', 'HA', 'HCC', 'HMTV', 'IEA', 'INTG', 'LMB', 'MSGN', 'PRSI', 'SCS', 'SFEF']\n",
        "\n",
        "df_result_pos[(df_result_pos['text'].str.lower().str.contains(' cba '))\n",
        "              & ~(df_result_pos['text'].str.lower().str.contains(' collective bargain'))\n",
        "              & ~(df_result_pos['text'].str.lower().str.contains('pension|retirement'))\n",
        "              & ~(df_result_pos['ticker_display'].isin(CHECKED_TICKERS))\n",
        "              ][['ticker_display', 'text']].sort_values(by='ticker_display')"
      ],
      "execution_count": null,
      "outputs": []
    },
    {
      "cell_type": "code",
      "metadata": {
        "id": "1px08sjXJDUE"
      },
      "source": [
        "# make a copy of the original dataframe\n",
        "\n",
        "df_310_test = df_300.reset_index(drop=True).copy()"
      ],
      "execution_count": null,
      "outputs": []
    },
    {
      "cell_type": "code",
      "metadata": {
        "id": "aH5mh7H7YJD1"
      },
      "source": [
        "import re\n",
        "from itertools import permutations \n",
        "from tqdm.notebook import tqdm_notebook\n",
        "tqdm_notebook.pandas(desc=\"progress bar\")\n",
        "\n",
        "\n",
        "def apply_gic_310_heuristics(text):\n",
        "\n",
        "  # lowercase text\n",
        "  text = text.lower()\n",
        "\n",
        "  # replace line breaks\n",
        "  text = text.replace('\\n', '')\n",
        "\n",
        "  # check for short text (remove anything less than 10 words)\n",
        "  if text.count(' ') < 2:\n",
        "    return 0\n",
        "\n",
        "  # prepare lawsuit related terms\n",
        "  lawsuit_terms = ['lawsuit', 'litigation', 'case', 'court', 'claim', 'ruling',\n",
        "                   'proceeding', 'appeal', 'judgment']\n",
        "  lawsuit_topics = ['harrassment', 'discrimination']\n",
        "\n",
        "  lawsuit_include = []\n",
        "  for term in lawsuit_terms:\n",
        "    for topic in lawsuit_topics:\n",
        "      lawsuit_include.append(term+'.*'+topic)\n",
        "      lawsuit_include.append(topic+'.*'+term)\n",
        "\n",
        "\n",
        "  # apply heuristics\n",
        "  gic_310_heuristics = [                           \n",
        "                        # unions\n",
        "                        {'include': ['union', 'organized labor', 'labor organization', \n",
        "                                      'labor association', 'recognition agreement',\n",
        "                                     'labor agreement'], \n",
        "                          'exclude': ['relation', \n",
        "                                      'satisfactory', 'good', \n",
        "                                      'european union', 'no', 'none',\n",
        "                                      'union city', 'city of union',\n",
        "                                      'town of union']},\n",
        "                        \n",
        "                        # labor dispute\n",
        "                        {'include': ['stoppage', 'strike', 'labor dispute', \n",
        "                                      'labor disagreement', 'labor disruption'], \n",
        "                          'exclude': ['strike price', 'lightning strike',\n",
        "                                      'equipment failure', 'disaster',\n",
        "                                      'malfunction', 'defect', 'decay',\n",
        "                                      'inadequacy', 'repair', 'decoration',\n",
        "                                      'choking', 'bursting', 'overflow', \n",
        "                                      'leakage', 'hazard', 'breakdown']},\n",
        "                        \n",
        "                        # collective bargaining\n",
        "                        {'include': ['collective bargain', 'CBA'], \n",
        "                          'exclude': ['no', 'none']},\n",
        "                      \n",
        "                        # independent contractor\n",
        "                        {'include': ['independent contractor'], \n",
        "                          'exclude': []},\n",
        "                      \n",
        "                        # recruitment practice\n",
        "                        {'include': ['recruit.*practice', 'manning agent',\n",
        "                                      'crewing', 'crewed'], \n",
        "                          'exclude': []},\n",
        "                      \n",
        "                        # workers' compensation\n",
        "                        {'include': [\"workers' compensation\"], \n",
        "                          'exclude': []},\n",
        "                      \n",
        "                        # unauthorized worker\n",
        "                        {'include': ['unauthorized worker'], \n",
        "                          'exclude': []},\n",
        "                        \n",
        "                        # overtime\n",
        "                          {'include': ['overtime'], \n",
        "                            'exclude': []},\n",
        "                        \n",
        "                        # minimum wage\n",
        "                        {'include': ['exceed.*minimum wage', 'greater.*minimum wage', \n",
        "                                      'lower.*minimum wage', 'less.*minimum wage',\n",
        "                                      'higher.*minimum wage', 'tip credit',\n",
        "                                      'tipped employee'], \n",
        "                          'exclude': []},\n",
        "                        \n",
        "                      \n",
        "                        # lawsuits (refer to above)\n",
        "                        {'include': lawsuit_include,\n",
        "                          'exclude': []},\n",
        "                        \n",
        "  ]\n",
        "\n",
        "  for h in gic_310_heuristics:\n",
        "    terms_to_include = h['include'][0] if len(h['include']) == 1 else '|'.join(h['include'])\n",
        "    terms_to_exclude = h['exclude'][0] if len(h['exclude']) == 1 else '|'.join(h['exclude'])\n",
        "    # print('terms_to_include:', terms_to_include)\n",
        "    # print('terms_to_exclude:', terms_to_exclude)\n",
        "    if (len(terms_to_include) == 0 or re.search(terms_to_include, text)) \\\n",
        "      and (len(terms_to_exclude) == 0 or (not re.search(terms_to_exclude, text))):\n",
        "      return 310\n",
        "  return 0\n",
        "    \n",
        "df_310_test['new_gic_code'] = df_310_test['excerpt']\\\n",
        "  .progress_apply(lambda x: apply_gic_310_heuristics(x))\n",
        "\n",
        "df_310_test[\\\n",
        "            (df_310_test['gic_code'] != df_310_test['new_gic_code'])\\\n",
        "            & ((df_310_test['gic_code'] == 310)|(df_310_test['new_gic_code'] == 310))\\\n",
        "            ][['excerpt_id', 'excerpt', 'gic_code', 'new_gic_code']]\n",
        "# .to_csv('/content/drive/MyDrive/DFG Cost of Human Rights Violations/Datasets/10k_clean_text/_0.7 visualized/labeled_data/df_310_test_diffs_v3.csv', index=False)"
      ],
      "execution_count": null,
      "outputs": []
    },
    {
      "cell_type": "code",
      "metadata": {
        "id": "zDc3HT02Eot7"
      },
      "source": [
        "# df_310_test[(df_310_test['gic_code'] != df_310_test['new_gic_code'])\n",
        "#             & df_310_test['excerpt'].str.contains('collective bargain')].head(50)\n",
        "\n",
        "df_310_test[\\\n",
        "            # (df_310_test['gic_code'] != df_310_test['new_gic_code'])\\\n",
        "            # & ((df_310_test['gic_code'] == 310)|(df_310_test['new_gic_code'] == 310))\\\n",
        "            # (df_310_test['excerpt'].str.contains('CBA'))\\\n",
        "            (df_310_test['excerpt_id'].str.contains('A1_M_CMP_10-K_EM-MM-310a_56343'))\\\n",
        "            # & (df_310_test['excerpt'].str.contains('exceed.*minimum wage'))\\\n",
        "  ][['excerpt_id', 'excerpt', 'gic_code', 'new_gic_code']]\n",
        "  # .to_csv('/content/drive/MyDrive/DFG Cost of Human Rights Violations/Datasets/10k_clean_text/_0.7 visualized/labeled_data/df_310_test_diffs.csv',\n",
        "  #                                                                index=False)"
      ],
      "execution_count": null,
      "outputs": []
    },
    {
      "cell_type": "markdown",
      "metadata": {
        "id": "9yQP7BEmYJoG"
      },
      "source": [
        "---\n",
        "# DO NOT USE"
      ]
    },
    {
      "cell_type": "code",
      "metadata": {
        "id": "BpuKlJ8_BRid"
      },
      "source": [
        "# df_300 = df_300.reset_index(drop=True)\n",
        "\n",
        "# terms_to_exclude = '\\$|increased|decreased|expense|record|'\\\n",
        "#                     +'if|could|may|would|will|can|'\\\n",
        "#                     +'factor|ability to|risk|future|potential|expect|'\\\n",
        "#                     +'atract|retain|qualified|'\\\n",
        "#                     +'defined|benefit|contribution|retirement|profit sharing|'\\\n",
        "#                     +'award|ranking|'\\\n",
        "#                     +'strike price|strike out|insurance|breakdown|'\\\n",
        "#                     +'must|subject|govern|adopt|regulat|appl|example'\n",
        "\n",
        "terms_to_include =  'recruit'\n",
        "                    # 'plaintiff|litigation|lawsuit|ruling|proceeding|court|appeal|claim'\n",
        "                    # 'minimum wage'\n",
        "                    # 'part time|part-time|hourly.*employee|temporary.*employee|constract.*employee'\n",
        "                    #'stoppage|interruption|strike|labor dispute|labor disagreement'\n",
        "                    #'union|unionize|organized labor|labor organization'\n",
        "                    # +'collective bargain|'\\\n",
        "\n",
        "# df_test = df_300[(~(df_300['excerpt'].str.contains(terms_to_exclude)))\n",
        "#                  & (df_300['excerpt'].str.contains(terms_to_include))]\n",
        "df_test\n",
        "# print(df_test['gic_code'].shape)\n",
        "# df_test['gic_code'].value_counts()"
      ],
      "execution_count": null,
      "outputs": []
    },
    {
      "cell_type": "code",
      "metadata": {
        "id": "wwYrp1jlQSS0"
      },
      "source": [
        ""
      ],
      "execution_count": null,
      "outputs": []
    },
    {
      "cell_type": "markdown",
      "metadata": {
        "id": "PnmN-76mlHgN"
      },
      "source": [
        "---\n",
        "## Investigate GIC 310 (using paragraphs)"
      ]
    },
    {
      "cell_type": "code",
      "metadata": {
        "id": "3ZGDlOHMjakm"
      },
      "source": [
        "# make a copy for 310\n",
        "df_310 = df_300.copy()\n",
        "\n",
        "# remove nulls\n",
        "df_310 = df_310[~df_310['excerpt_lemma'].isnull()]\n",
        "\n",
        "# mark 310 as relevant and everything else as 0\n",
        "df_310['relevant'] = df_310['gic_code'].apply(lambda x: 1 if x == 310 else 0)\n",
        "\n",
        "# confirm distribution\n",
        "df_310['relevant'].value_counts()"
      ],
      "execution_count": null,
      "outputs": []
    },
    {
      "cell_type": "code",
      "metadata": {
        "id": "kWm4F5H5leoZ"
      },
      "source": [
        "from sklearn.feature_extraction.text import TfidfVectorizer\n",
        "\n",
        "# vectorize excerpts using tfidf\n",
        "count_vec = TfidfVectorizer(stop_words='english', \n",
        "                            ngram_range=(1,3),\n",
        "                            min_df=10)\n",
        "X = df_310['excerpt_lemma']\n",
        "y = df_310['relevant']\n",
        "X = count_vec.fit_transform(X)\n",
        "vocabs = dict(sorted(count_vec.vocabulary_.items(), key=lambda item: item[1]))\n",
        "vocabs = [k for k, v in vocabs.items()]"
      ],
      "execution_count": null,
      "outputs": []
    },
    {
      "cell_type": "code",
      "metadata": {
        "id": "9n-mPzOAnm-4"
      },
      "source": [
        "from sklearn.linear_model import LogisticRegression\n",
        "\n",
        "# run a simple logistic regression over the data\n",
        "clf = LogisticRegression(class_weight='balanced', max_iter=100000)\n",
        "clf.fit(X,y)"
      ],
      "execution_count": null,
      "outputs": []
    },
    {
      "cell_type": "code",
      "metadata": {
        "id": "TVIoRVEcqAcB"
      },
      "source": [
        "# generate a dataframe with n-gram and coefficients\n",
        "\n",
        "df_coef = pd.DataFrame()\n",
        "df_coef['n-gram'] = vocabs\n",
        "df_coef['coefficient'] = clf.coef_[0]"
      ],
      "execution_count": null,
      "outputs": []
    },
    {
      "cell_type": "code",
      "metadata": {
        "id": "yvtwzHExV5uy"
      },
      "source": [
        "pip install chart_studio"
      ],
      "execution_count": null,
      "outputs": []
    },
    {
      "cell_type": "code",
      "metadata": {
        "id": "B4fBAtggxE76"
      },
      "source": [
        "import chart_studio\n",
        "import chart_studio.plotly as py\n",
        "import chart_studio.tools as tls\n",
        "import plotly.graph_objects as go\n",
        "\n",
        "\n",
        "# look at the top N n-grams by importance\n",
        "n = 50\n",
        "y_val = df_coef.sort_values(by='coefficient', ascending=False).head(n)['coefficient']\n",
        "x_val = df_coef.sort_values(by='coefficient', ascending=False).head(n)['n-gram']\n",
        "\n",
        "fig = go.Figure()\n",
        "trace_bar_tmp = go.Bar(x=x_val, y=y_val, marker={'color': 'lightseagreen'})\n",
        "fig.add_trace(trace_bar_tmp)\n",
        "fig.update_layout(\n",
        "    title='GIC 310: Labor Practice: Top-'+str(n)+' n-grams by importance',\n",
        "    template = 'seaborn',\n",
        ")\n",
        "fig.update_xaxes(tickangle=45, title_text='')\n",
        "fig.update_yaxes(title_text='Coefficient')\n",
        "\n",
        "\n",
        "fig.show()"
      ],
      "execution_count": null,
      "outputs": []
    },
    {
      "cell_type": "code",
      "metadata": {
        "id": "hmABzosZ5_U_"
      },
      "source": [
        "import chart_studio\n",
        "import chart_studio.plotly as py\n",
        "import chart_studio.tools as tls\n",
        "import plotly.graph_objects as go\n",
        "\n",
        "# look at the bottom N n-grams by importance\n",
        "n = 50\n",
        "y_val = df_coef.sort_values(by='coefficient', ascending=True).head(n)['coefficient']\n",
        "x_val = df_coef.sort_values(by='coefficient', ascending=True).head(n)['n-gram']\n",
        "\n",
        "fig = go.Figure()\n",
        "trace_bar_tmp = go.Bar(x=x_val, y=y_val, marker={'color': 'lightsalmon'})\n",
        "fig.add_trace(trace_bar_tmp)\n",
        "fig.update_layout(\n",
        "    title='GIC 310: Labor Practice: Bottom-'+str(n)+' n-grams by importance',\n",
        "    template = 'seaborn'\n",
        ")\n",
        "fig.update_xaxes(tickangle=45, title_text='')\n",
        "fig.update_yaxes(title_text='Coefficient')\n",
        "\n",
        "fig.show()"
      ],
      "execution_count": null,
      "outputs": []
    },
    {
      "cell_type": "code",
      "metadata": {
        "id": "gVDt5Ep-J-sz"
      },
      "source": [
        "# ref: https://www.kaggle.com/jbencina/clustering-documents-with-tfidf-and-kmeans\n",
        "\n",
        "# attempt clustering on 310 excerpts\n",
        "\n",
        "X = df_310[df_310['relevant'] == 1]['excerpt_lemma']\n",
        "X = count_vec.transform(X)"
      ],
      "execution_count": null,
      "outputs": []
    },
    {
      "cell_type": "code",
      "metadata": {
        "id": "x_kFZ_-XO6sE"
      },
      "source": [
        "from sklearn.cluster import MiniBatchKMeans\n",
        "import numpy as np\n",
        "\n",
        "# run clustering for different k's\n",
        "k = 50\n",
        "sses = []\n",
        "print('clustering k = ', end='')\n",
        "for i in range(2,k+1):\n",
        "  print(i, end=', ')\n",
        "  sse = MiniBatchKMeans(n_clusters=i, init_size=1024, \n",
        "                        batch_size=2048, random_state=20).fit(X).inertia_\n",
        "  sses.append(sse)\n",
        "\n",
        "y_val = sses\n",
        "x_val = np.arange(2,k+1)\n",
        "\n",
        "# graph results\n",
        "import plotly.graph_objects as go\n",
        "\n",
        "fig = go.Figure()\n",
        "trace = go.Scatter(x=x_val, y=y_val, mode='lines+markers')\n",
        "fig.add_trace(trace)\n",
        "fig.update_layout(\n",
        "    title='Sum of squared errors (SSE) by cluster size',\n",
        "    template = 'seaborn'\n",
        ")\n",
        "fig.update_xaxes(title_text='Number of clusters')\n",
        "fig.update_yaxes(title_text='SSE')\n",
        "\n",
        "fig.show()"
      ],
      "execution_count": null,
      "outputs": []
    },
    {
      "cell_type": "code",
      "metadata": {
        "id": "ejQXrC2IZJ2a"
      },
      "source": [
        "# Generate clusters based on the selected number of clusters\n",
        "\n",
        "n_clusters = 14\n",
        "clusters = MiniBatchKMeans(n_clusters=n_clusters, init_size=1024, \n",
        "                           batch_size=2048, random_state=20).fit_predict(X)\n",
        "\n",
        "df_310_rel = df_310[df_310['relevant'] == 1]\n",
        "df_310_rel['cluster'] = clusters\n",
        "df_310_rel['cluster'].value_counts()"
      ],
      "execution_count": null,
      "outputs": []
    },
    {
      "cell_type": "code",
      "metadata": {
        "id": "B3A3Td5SpTa3"
      },
      "source": [
        "from collections import Counter\n",
        "import matplotlib.pyplot as plt\n",
        "# from wordcloud import WordCloud, STOPWORDS\n",
        "# import scipy\n",
        "\n",
        "df_tfidf = pd.DataFrame()\n",
        "\n",
        "for i in range(n_clusters):\n",
        "  df_cluster = df_310_rel[df_310_rel['cluster'] == i]['excerpt_lemma']\n",
        "  excerpts = np.asarray(count_vec.transform(df_cluster).sum(axis=0))[0]/df_cluster.shape[0]\n",
        "  df_tmp = pd.DataFrame(zip(vocabs, excerpts), \n",
        "                          columns=['n-gram', 'norm_tfidf_score'])\n",
        "  df_tmp['cluster'] = i\n",
        "  df_tmp = df_tmp.sort_values(by='norm_tfidf_score', ascending=False)\n",
        "  df_tfidf = pd.concat([df_tfidf, df_tmp.head(20)])\n",
        "\n",
        "df_tfidf.to_csv('/content/drive/MyDrive/DFG Cost of Human Rights Violations/Datasets/10k_clean_text/_0.7 visualized/labeled_data/df_tfidf.csv', index=False)\n",
        "df_tfidf.groupby('cluster').agg({'n-gram': ', '.join})"
      ],
      "execution_count": null,
      "outputs": []
    },
    {
      "cell_type": "code",
      "metadata": {
        "id": "IH7lLlTRNydS"
      },
      "source": [
        "df_310_rel[(df_310_rel['cluster'] == 12) \\\n",
        "          #  & (df_310_rel['excerpt'].str.contains('stoppage'))\n",
        "           ][['excerpt', 'gic_code', 'cluster']].head(20)"
      ],
      "execution_count": null,
      "outputs": []
    }
  ]
}